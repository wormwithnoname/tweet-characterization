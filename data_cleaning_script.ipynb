{
 "cells": [
  {
   "cell_type": "markdown",
   "id": "93b8bcd8",
   "metadata": {},
   "source": [
    "# Twitter Data Cleaning Script"
   ]
  },
  {
   "cell_type": "markdown",
   "id": "2fb2dce4",
   "metadata": {},
   "source": [
    "#### Import necessary packages for data cleaning and visualization"
   ]
  },
  {
   "cell_type": "code",
   "execution_count": 1,
   "id": "e32e5a69",
   "metadata": {
    "scrolled": true
   },
   "outputs": [
    {
     "name": "stderr",
     "output_type": "stream",
     "text": [
      "[nltk_data] Downloading package stopwords to C:\\Users\\Casey Gwen\n",
      "[nltk_data]     Dable\\AppData\\Roaming\\nltk_data...\n",
      "[nltk_data]   Package stopwords is already up-to-date!\n",
      "[nltk_data] Downloading package punkt to C:\\Users\\Casey Gwen\n",
      "[nltk_data]     Dable\\AppData\\Roaming\\nltk_data...\n",
      "[nltk_data]   Package punkt is already up-to-date!\n",
      "[nltk_data] Downloading package wordnet to C:\\Users\\Casey Gwen\n",
      "[nltk_data]     Dable\\AppData\\Roaming\\nltk_data...\n",
      "[nltk_data]   Package wordnet is already up-to-date!\n"
     ]
    }
   ],
   "source": [
    "import pandas as pd\n",
    "import numpy as np\n",
    "import nltk\n",
    "import advertools as adv\n",
    "import text2emotion as te\n",
    "import matplotlib.pyplot as plt\n",
    "from textblob import TextBlob\n",
    "from normalizer import preprocess\n",
    "from collections import Counter\n",
    "from sklearn.feature_extraction.text import TfidfVectorizer"
   ]
  },
  {
   "cell_type": "markdown",
   "id": "13c3718c",
   "metadata": {},
   "source": [
    "## PREPROCESSING"
   ]
  },
  {
   "cell_type": "code",
   "execution_count": 39,
   "id": "dee57bba",
   "metadata": {},
   "outputs": [],
   "source": [
    "data = pd.read_csv('./wjsn.csv', engine='python')"
   ]
  },
  {
   "cell_type": "markdown",
   "id": "ea76856e",
   "metadata": {},
   "source": [
    "#### *Filter only english tweets from collected data"
   ]
  },
  {
   "cell_type": "code",
   "execution_count": 40,
   "id": "e5b91919",
   "metadata": {
    "scrolled": true
   },
   "outputs": [],
   "source": [
    "english_only = data.loc[data['lang'] == 'en']"
   ]
  },
  {
   "cell_type": "code",
   "execution_count": 41,
   "id": "51808638",
   "metadata": {},
   "outputs": [],
   "source": [
    "text_data = english_only['text'].to_numpy()"
   ]
  },
  {
   "cell_type": "markdown",
   "id": "93d3cf52",
   "metadata": {},
   "source": [
    "#### Process tweets using the normalizer.py for cleaning"
   ]
  },
  {
   "cell_type": "code",
   "execution_count": 42,
   "id": "5d62336e",
   "metadata": {},
   "outputs": [],
   "source": [
    "preprocessed_text_data = [preprocess(text) for text in text_data]"
   ]
  },
  {
   "cell_type": "markdown",
   "id": "1bc24503",
   "metadata": {},
   "source": [
    "#### Removing duplicates"
   ]
  },
  {
   "cell_type": "code",
   "execution_count": 43,
   "id": "e6b4c90f",
   "metadata": {
    "scrolled": true
   },
   "outputs": [],
   "source": [
    "tweet_documents = np.unique([\" \".join(sent) for sent in preprocessed_text_data])"
   ]
  },
  {
   "cell_type": "markdown",
   "id": "bed1f0fb",
   "metadata": {},
   "source": [
    "###### from here a certain feature should be selected to get your desired results"
   ]
  },
  {
   "cell_type": "markdown",
   "id": "bd14a464",
   "metadata": {},
   "source": [
    "## PLOTTING TWEETS OVER TIME"
   ]
  },
  {
   "cell_type": "code",
   "execution_count": 3,
   "id": "2428e1fe",
   "metadata": {},
   "outputs": [],
   "source": [
    "retweeted_data_time = data\n",
    "retweeted_data_time.rename(columns={'created_at': 'date'}, inplace=True)\n",
    "retweeted_data_time = retweeted_data_time[['date']]\n",
    "retweeted_data_time = retweeted_data_time.assign(count=1) #count added to know how many tweets are made over time\n",
    "retweeted_data_time = retweeted_data_time.set_index('date')"
   ]
  },
  {
   "cell_type": "code",
   "execution_count": 4,
   "id": "2e58fb56",
   "metadata": {
    "scrolled": true
   },
   "outputs": [],
   "source": [
    "retweeted_data_time.index = pd.to_datetime(retweeted_data_time.index) #change the datatype of the data frame item from str to datetime data type "
   ]
  },
  {
   "cell_type": "code",
   "execution_count": 5,
   "id": "a24ce214",
   "metadata": {},
   "outputs": [],
   "source": [
    "retweeted_data_time = retweeted_data_time['count'].resample('5T').sum()\n",
    "plot_time = retweeted_data_time"
   ]
  },
  {
   "cell_type": "code",
   "execution_count": 6,
   "id": "ccbb26b4",
   "metadata": {},
   "outputs": [],
   "source": [
    "pd.DataFrame(plot_time).to_csv('wjsn_tweet_count.csv')"
   ]
  },
  {
   "cell_type": "code",
   "execution_count": 7,
   "id": "2c6771b4",
   "metadata": {},
   "outputs": [
    {
     "data": {
      "image/png": "[encoded data removed]",
      "text/plain": [
       "<Figure size 720x432 with 1 Axes>"
      ]
     },
     "metadata": {
      "needs_background": "light"
     },
     "output_type": "display_data"
    }
   ],
   "source": [
    "retweeted_data_time = retweeted_data_time\\\n",
    ".plot(ylabel='Occurences', xlabel='Time', title='\"WJSN\" Tweet Activity', figsize=(10, 6)); #resampling needed for method frequency conversion"
   ]
  },
  {
   "cell_type": "code",
   "execution_count": 8,
   "id": "66405fde",
   "metadata": {},
   "outputs": [],
   "source": [
    "tweet_activity_plot = retweeted_data_time;\n",
    "tweet_activity_plot = tweet_activity_plot.get_figure()\n",
    "tweet_activity_plot.savefig('wjsn_plot.jpg', dpi=100)"
   ]
  },
  {
   "cell_type": "markdown",
   "id": "8954c49d",
   "metadata": {},
   "source": [
    "## RETWEETS"
   ]
  },
  {
   "cell_type": "code",
   "execution_count": 11,
   "id": "3e13c3d3",
   "metadata": {
    "scrolled": false
   },
   "outputs": [],
   "source": [
    "retweeted_data = data\n",
    "retweeted_data.rename(columns={'public_metrics.retweet_count': 'retweets', 'public_metrics.like_count': 'likes', \n",
    "                               'lang': 'language'}, inplace=True)\n",
    "retweeted_data = retweeted_data[['text', 'retweets','likes','language']]"
   ]
  },
  {
   "cell_type": "code",
   "execution_count": 12,
   "id": "fc7ae3b1",
   "metadata": {},
   "outputs": [
    {
     "data": {
      "text/html": [
       "<div>\n",
       "<style scoped>\n",
       "    .dataframe tbody tr th:only-of-type {\n",
       "        vertical-align: middle;\n",
       "    }\n",
       "\n",
       "    .dataframe tbody tr th {\n",
       "        vertical-align: top;\n",
       "    }\n",
       "\n",
       "    .dataframe thead th {\n",
       "        text-align: right;\n",
       "    }\n",
       "</style>\n",
       "<table border=\"1\" class=\"dataframe\">\n",
       "  <thead>\n",
       "    <tr style=\"text-align: right;\">\n",
       "      <th></th>\n",
       "      <th>text</th>\n",
       "      <th>retweets</th>\n",
       "      <th>likes</th>\n",
       "      <th>language</th>\n",
       "    </tr>\n",
       "  </thead>\n",
       "  <tbody>\n",
       "    <tr>\n",
       "      <th>3096</th>\n",
       "      <td>[#퀸덤2/6회 예고] 각 팀의 자존심을 건 3차 경연 1R 〈유닛 대결〉의 시작!...</td>\n",
       "      <td>6926</td>\n",
       "      <td>19831</td>\n",
       "      <td>ko</td>\n",
       "    </tr>\n",
       "    <tr>\n",
       "      <th>2980</th>\n",
       "      <td>[#퀸덤2/6회 예고] 각 팀의 자존심을 건 3차 경연 1R 〈유닛 대결〉의 시작!...</td>\n",
       "      <td>6926</td>\n",
       "      <td>19830</td>\n",
       "      <td>ko</td>\n",
       "    </tr>\n",
       "    <tr>\n",
       "      <th>2963</th>\n",
       "      <td>[#퀸덤2/6회 예고] 각 팀의 자존심을 건 3차 경연 1R 〈유닛 대결〉의 시작!...</td>\n",
       "      <td>6926</td>\n",
       "      <td>19830</td>\n",
       "      <td>ko</td>\n",
       "    </tr>\n",
       "    <tr>\n",
       "      <th>2964</th>\n",
       "      <td>[#퀸덤2/6회 예고] 각 팀의 자존심을 건 3차 경연 1R 〈유닛 대결〉의 시작!...</td>\n",
       "      <td>6926</td>\n",
       "      <td>19830</td>\n",
       "      <td>ko</td>\n",
       "    </tr>\n",
       "    <tr>\n",
       "      <th>2966</th>\n",
       "      <td>[#퀸덤2/6회 예고] 각 팀의 자존심을 건 3차 경연 1R 〈유닛 대결〉의 시작!...</td>\n",
       "      <td>6926</td>\n",
       "      <td>19830</td>\n",
       "      <td>ko</td>\n",
       "    </tr>\n",
       "    <tr>\n",
       "      <th>...</th>\n",
       "      <td>...</td>\n",
       "      <td>...</td>\n",
       "      <td>...</td>\n",
       "      <td>...</td>\n",
       "    </tr>\n",
       "    <tr>\n",
       "      <th>1349</th>\n",
       "      <td>wts lfb ph\\n\\nwjsn eunseo photocard\\n\\n380 + p...</td>\n",
       "      <td>0</td>\n",
       "      <td>0</td>\n",
       "      <td>en</td>\n",
       "    </tr>\n",
       "    <tr>\n",
       "      <th>1040</th>\n",
       "      <td>#WuXuanYi ❤️❤️❤️\\n#wuxuanyi #bettywu #singer #...</td>\n",
       "      <td>0</td>\n",
       "      <td>1</td>\n",
       "      <td>und</td>\n",
       "    </tr>\n",
       "    <tr>\n",
       "      <th>2033</th>\n",
       "      <td>@starfess TWICE : momo\\nGFRIEND : sinb\\nRED VE...</td>\n",
       "      <td>0</td>\n",
       "      <td>0</td>\n",
       "      <td>en</td>\n",
       "    </tr>\n",
       "    <tr>\n",
       "      <th>394</th>\n",
       "      <td>Wjsn China queens!!!! https://t.co/fWFlGaUG6C</td>\n",
       "      <td>0</td>\n",
       "      <td>2</td>\n",
       "      <td>en</td>\n",
       "    </tr>\n",
       "    <tr>\n",
       "      <th>135</th>\n",
       "      <td>TWICE : chaeyoung\\nGFRIEND : sowon \\nRED VELVE...</td>\n",
       "      <td>0</td>\n",
       "      <td>0</td>\n",
       "      <td>en</td>\n",
       "    </tr>\n",
       "  </tbody>\n",
       "</table>\n",
       "<p>3097 rows × 4 columns</p>\n",
       "</div>"
      ],
      "text/plain": [
       "                                                   text  retweets  likes  \\\n",
       "3096  [#퀸덤2/6회 예고] 각 팀의 자존심을 건 3차 경연 1R 〈유닛 대결〉의 시작!...      6926  19831   \n",
       "2980  [#퀸덤2/6회 예고] 각 팀의 자존심을 건 3차 경연 1R 〈유닛 대결〉의 시작!...      6926  19830   \n",
       "2963  [#퀸덤2/6회 예고] 각 팀의 자존심을 건 3차 경연 1R 〈유닛 대결〉의 시작!...      6926  19830   \n",
       "2964  [#퀸덤2/6회 예고] 각 팀의 자존심을 건 3차 경연 1R 〈유닛 대결〉의 시작!...      6926  19830   \n",
       "2966  [#퀸덤2/6회 예고] 각 팀의 자존심을 건 3차 경연 1R 〈유닛 대결〉의 시작!...      6926  19830   \n",
       "...                                                 ...       ...    ...   \n",
       "1349  wts lfb ph\\n\\nwjsn eunseo photocard\\n\\n380 + p...         0      0   \n",
       "1040  #WuXuanYi ❤️❤️❤️\\n#wuxuanyi #bettywu #singer #...         0      1   \n",
       "2033  @starfess TWICE : momo\\nGFRIEND : sinb\\nRED VE...         0      0   \n",
       "394       Wjsn China queens!!!! https://t.co/fWFlGaUG6C         0      2   \n",
       "135   TWICE : chaeyoung\\nGFRIEND : sowon \\nRED VELVE...         0      0   \n",
       "\n",
       "     language  \n",
       "3096       ko  \n",
       "2980       ko  \n",
       "2963       ko  \n",
       "2964       ko  \n",
       "2966       ko  \n",
       "...       ...  \n",
       "1349       en  \n",
       "1040      und  \n",
       "2033       en  \n",
       "394        en  \n",
       "135        en  \n",
       "\n",
       "[3097 rows x 4 columns]"
      ]
     },
     "execution_count": 12,
     "metadata": {},
     "output_type": "execute_result"
    }
   ],
   "source": [
    "retweeted_data = retweeted_data[[\"text\", \"retweets\", \"likes\", \"language\"]]\n",
    "retweeted_data.sort_values(\"retweets\", inplace = True, ascending = False)\n",
    "retweeted_data"
   ]
  },
  {
   "cell_type": "code",
   "execution_count": 13,
   "id": "2e3f6574",
   "metadata": {
    "scrolled": true
   },
   "outputs": [],
   "source": [
    "retweeted_data = retweeted_data[[\"text\", \"retweets\", \"likes\", \"language\"]]\n",
    "retweeted_data.sort_values(\"retweets\", inplace = True, ascending = False)\n",
    "retweeted_data.drop_duplicates(subset =\"retweets\", keep = 'first', inplace = True)"
   ]
  },
  {
   "cell_type": "markdown",
   "id": "a907d8a1",
   "metadata": {},
   "source": [
    "##### English only retweets"
   ]
  },
  {
   "cell_type": "code",
   "execution_count": 14,
   "id": "ea7a637d",
   "metadata": {},
   "outputs": [
    {
     "data": {
      "text/html": [
       "<div>\n",
       "<style scoped>\n",
       "    .dataframe tbody tr th:only-of-type {\n",
       "        vertical-align: middle;\n",
       "    }\n",
       "\n",
       "    .dataframe tbody tr th {\n",
       "        vertical-align: top;\n",
       "    }\n",
       "\n",
       "    .dataframe thead th {\n",
       "        text-align: right;\n",
       "    }\n",
       "</style>\n",
       "<table border=\"1\" class=\"dataframe\">\n",
       "  <thead>\n",
       "    <tr style=\"text-align: right;\">\n",
       "      <th></th>\n",
       "      <th>retweets</th>\n",
       "      <th>likes</th>\n",
       "      <th>language</th>\n",
       "    </tr>\n",
       "  </thead>\n",
       "  <tbody>\n",
       "    <tr>\n",
       "      <th>1630</th>\n",
       "      <td>2964</td>\n",
       "      <td>11517</td>\n",
       "      <td>en</td>\n",
       "    </tr>\n",
       "    <tr>\n",
       "      <th>198</th>\n",
       "      <td>2154</td>\n",
       "      <td>7725</td>\n",
       "      <td>en</td>\n",
       "    </tr>\n",
       "    <tr>\n",
       "      <th>1658</th>\n",
       "      <td>2140</td>\n",
       "      <td>9067</td>\n",
       "      <td>en</td>\n",
       "    </tr>\n",
       "    <tr>\n",
       "      <th>185</th>\n",
       "      <td>2009</td>\n",
       "      <td>9451</td>\n",
       "      <td>en</td>\n",
       "    </tr>\n",
       "    <tr>\n",
       "      <th>375</th>\n",
       "      <td>1401</td>\n",
       "      <td>5151</td>\n",
       "      <td>en</td>\n",
       "    </tr>\n",
       "    <tr>\n",
       "      <th>...</th>\n",
       "      <td>...</td>\n",
       "      <td>...</td>\n",
       "      <td>...</td>\n",
       "    </tr>\n",
       "    <tr>\n",
       "      <th>360</th>\n",
       "      <td>10</td>\n",
       "      <td>35</td>\n",
       "      <td>en</td>\n",
       "    </tr>\n",
       "    <tr>\n",
       "      <th>1497</th>\n",
       "      <td>8</td>\n",
       "      <td>79</td>\n",
       "      <td>en</td>\n",
       "    </tr>\n",
       "    <tr>\n",
       "      <th>336</th>\n",
       "      <td>4</td>\n",
       "      <td>4</td>\n",
       "      <td>en</td>\n",
       "    </tr>\n",
       "    <tr>\n",
       "      <th>1213</th>\n",
       "      <td>2</td>\n",
       "      <td>3</td>\n",
       "      <td>en</td>\n",
       "    </tr>\n",
       "    <tr>\n",
       "      <th>1091</th>\n",
       "      <td>0</td>\n",
       "      <td>1</td>\n",
       "      <td>en</td>\n",
       "    </tr>\n",
       "  </tbody>\n",
       "</table>\n",
       "<p>87 rows × 3 columns</p>\n",
       "</div>"
      ],
      "text/plain": [
       "      retweets  likes language\n",
       "1630      2964  11517       en\n",
       "198       2154   7725       en\n",
       "1658      2140   9067       en\n",
       "185       2009   9451       en\n",
       "375       1401   5151       en\n",
       "...        ...    ...      ...\n",
       "360         10     35       en\n",
       "1497         8     79       en\n",
       "336          4      4       en\n",
       "1213         2      3       en\n",
       "1091         0      1       en\n",
       "\n",
       "[87 rows x 3 columns]"
      ]
     },
     "execution_count": 14,
     "metadata": {},
     "output_type": "execute_result"
    }
   ],
   "source": [
    "english_only_rt_data = retweeted_data.query(\"language == 'en'\")\n",
    "english_only_rt_data = english_only_rt_data[[\"retweets\", \"likes\",\"language\"]]\n",
    "english_only_rt_data"
   ]
  },
  {
   "cell_type": "markdown",
   "id": "c1dec6e3",
   "metadata": {},
   "source": [
    "##### Non-english retweets"
   ]
  },
  {
   "cell_type": "code",
   "execution_count": 15,
   "id": "189d14e0",
   "metadata": {},
   "outputs": [
    {
     "data": {
      "text/html": [
       "<div>\n",
       "<style scoped>\n",
       "    .dataframe tbody tr th:only-of-type {\n",
       "        vertical-align: middle;\n",
       "    }\n",
       "\n",
       "    .dataframe tbody tr th {\n",
       "        vertical-align: top;\n",
       "    }\n",
       "\n",
       "    .dataframe thead th {\n",
       "        text-align: right;\n",
       "    }\n",
       "</style>\n",
       "<table border=\"1\" class=\"dataframe\">\n",
       "  <thead>\n",
       "    <tr style=\"text-align: right;\">\n",
       "      <th></th>\n",
       "      <th>retweets</th>\n",
       "      <th>likes</th>\n",
       "      <th>language</th>\n",
       "    </tr>\n",
       "  </thead>\n",
       "  <tbody>\n",
       "    <tr>\n",
       "      <th>3096</th>\n",
       "      <td>6926</td>\n",
       "      <td>19831</td>\n",
       "      <td>ko</td>\n",
       "    </tr>\n",
       "    <tr>\n",
       "      <th>2859</th>\n",
       "      <td>6925</td>\n",
       "      <td>19830</td>\n",
       "      <td>ko</td>\n",
       "    </tr>\n",
       "    <tr>\n",
       "      <th>2481</th>\n",
       "      <td>6924</td>\n",
       "      <td>19827</td>\n",
       "      <td>ko</td>\n",
       "    </tr>\n",
       "    <tr>\n",
       "      <th>2361</th>\n",
       "      <td>6923</td>\n",
       "      <td>19825</td>\n",
       "      <td>ko</td>\n",
       "    </tr>\n",
       "    <tr>\n",
       "      <th>1631</th>\n",
       "      <td>6922</td>\n",
       "      <td>19820</td>\n",
       "      <td>ko</td>\n",
       "    </tr>\n",
       "    <tr>\n",
       "      <th>...</th>\n",
       "      <td>...</td>\n",
       "      <td>...</td>\n",
       "      <td>...</td>\n",
       "    </tr>\n",
       "    <tr>\n",
       "      <th>336</th>\n",
       "      <td>4</td>\n",
       "      <td>4</td>\n",
       "      <td>en</td>\n",
       "    </tr>\n",
       "    <tr>\n",
       "      <th>470</th>\n",
       "      <td>3</td>\n",
       "      <td>12</td>\n",
       "      <td>th</td>\n",
       "    </tr>\n",
       "    <tr>\n",
       "      <th>1213</th>\n",
       "      <td>2</td>\n",
       "      <td>3</td>\n",
       "      <td>en</td>\n",
       "    </tr>\n",
       "    <tr>\n",
       "      <th>769</th>\n",
       "      <td>1</td>\n",
       "      <td>0</td>\n",
       "      <td>ko</td>\n",
       "    </tr>\n",
       "    <tr>\n",
       "      <th>1091</th>\n",
       "      <td>0</td>\n",
       "      <td>1</td>\n",
       "      <td>en</td>\n",
       "    </tr>\n",
       "  </tbody>\n",
       "</table>\n",
       "<p>150 rows × 3 columns</p>\n",
       "</div>"
      ],
      "text/plain": [
       "      retweets  likes language\n",
       "3096      6926  19831       ko\n",
       "2859      6925  19830       ko\n",
       "2481      6924  19827       ko\n",
       "2361      6923  19825       ko\n",
       "1631      6922  19820       ko\n",
       "...        ...    ...      ...\n",
       "336          4      4       en\n",
       "470          3     12       th\n",
       "1213         2      3       en\n",
       "769          1      0       ko\n",
       "1091         0      1       en\n",
       "\n",
       "[150 rows x 3 columns]"
      ]
     },
     "execution_count": 15,
     "metadata": {},
     "output_type": "execute_result"
    }
   ],
   "source": [
    "retweeted_data = retweeted_data[[\"retweets\", \"likes\",\"language\"]]\n",
    "retweeted_data"
   ]
  },
  {
   "cell_type": "code",
   "execution_count": 16,
   "id": "f665d3a3",
   "metadata": {},
   "outputs": [],
   "source": [
    "df_retweeted_count = pd.DataFrame(retweeted_data).to_csv('wjsn_retweetCount-non_english.csv', header=['Retweets', 'Likes', 'Language'])"
   ]
  },
  {
   "cell_type": "code",
   "execution_count": 17,
   "id": "cf3d5cda",
   "metadata": {},
   "outputs": [],
   "source": [
    "df_retweeted_count_en = pd.DataFrame(english_only_rt_data).to_csv('wjsn_retweetCount-english.csv', header=['Retweets', 'Likes', 'Language'])"
   ]
  },
  {
   "cell_type": "markdown",
   "id": "46404134",
   "metadata": {},
   "source": [
    "## EMOJI ABSENCE PRESENCE"
   ]
  },
  {
   "cell_type": "code",
   "execution_count": 21,
   "id": "c168e37d",
   "metadata": {
    "scrolled": true
   },
   "outputs": [],
   "source": [
    "emojis_in_tweet = adv.extract_emoji(text_data)\n",
    "emoji_for_binarizer = emojis_in_tweet['emoji_counts']\n",
    "df_emoji_count = pd.DataFrame(emojis_in_tweet['emoji_counts'])"
   ]
  },
  {
   "cell_type": "code",
   "execution_count": 22,
   "id": "1c3c524e",
   "metadata": {},
   "outputs": [],
   "source": [
    "df_emoji_count = pd.DataFrame(df_emoji_count).to_csv('wjsn_emojiCount.csv', header=['Emoji Count'])"
   ]
  },
  {
   "cell_type": "markdown",
   "id": "bc492dc1",
   "metadata": {},
   "source": [
    "#### Binarizer"
   ]
  },
  {
   "cell_type": "code",
   "execution_count": 23,
   "id": "63829944",
   "metadata": {},
   "outputs": [],
   "source": [
    "for i, x in enumerate(emoji_for_binarizer):\n",
    "    if x >= 1: emoji_for_binarizer[i] = 1"
   ]
  },
  {
   "cell_type": "code",
   "execution_count": 24,
   "id": "dd5d66fe",
   "metadata": {},
   "outputs": [],
   "source": [
    "df_emoji_binarized = pd.DataFrame(emoji_for_binarizer)\n",
    "df_emoji_binarized.columns = ['Emoji Absence/Presence']"
   ]
  },
  {
   "cell_type": "code",
   "execution_count": 25,
   "id": "db694b6a",
   "metadata": {},
   "outputs": [],
   "source": [
    "emoji_percentage = df_emoji_binarized['Emoji Absence/Presence'].value_counts(normalize=True) * 100"
   ]
  },
  {
   "cell_type": "code",
   "execution_count": 26,
   "id": "57fcc69e",
   "metadata": {},
   "outputs": [
    {
     "data": {
      "text/plain": [
       "0    72.944297\n",
       "1    27.055703\n",
       "Name: Emoji Absence/Presence, dtype: float64"
      ]
     },
     "execution_count": 26,
     "metadata": {},
     "output_type": "execute_result"
    }
   ],
   "source": [
    "emoji_percentage"
   ]
  },
  {
   "cell_type": "code",
   "execution_count": 27,
   "id": "ebcb0c86",
   "metadata": {},
   "outputs": [
    {
     "data": {
      "image/png": "[encoded data removed]",
      "text/plain": [
       "<Figure size 432x432 with 1 Axes>"
      ]
     },
     "metadata": {},
     "output_type": "display_data"
    }
   ],
   "source": [
    "emoji_plot = emoji_percentage.plot.pie(ylabel='Absence/Presence', title='WJSN Emoji Percentage', legend=None,subplots=True, figsize=(6, 6), autopct='%1.1f%%')"
   ]
  },
  {
   "cell_type": "code",
   "execution_count": 28,
   "id": "28bb18de",
   "metadata": {},
   "outputs": [],
   "source": [
    "emoji_plot = emoji_plot[0].get_figure()\n",
    "emoji_plot.savefig('wjsn_emoji_plot.jpg', dpi=100)"
   ]
  },
  {
   "cell_type": "code",
   "execution_count": 29,
   "id": "3fa31e86",
   "metadata": {},
   "outputs": [],
   "source": [
    "pd.DataFrame(df_emoji_binarized).to_csv('wjsn_emojiCountBinarized.csv', header=['Emoji Absence/Presence'])"
   ]
  },
  {
   "cell_type": "markdown",
   "id": "dd828b39",
   "metadata": {},
   "source": [
    "## MOST COMMON WORDS"
   ]
  },
  {
   "cell_type": "code",
   "execution_count": 34,
   "id": "b77d89c9",
   "metadata": {},
   "outputs": [],
   "source": [
    "joined_words = sum(preprocessed_text_data, [])\n",
    "c = Counter(joined_words)"
   ]
  },
  {
   "cell_type": "code",
   "execution_count": 35,
   "id": "e170ef4f",
   "metadata": {},
   "outputs": [],
   "source": [
    "df_most_common_words = pd.DataFrame(c.most_common())"
   ]
  },
  {
   "cell_type": "code",
   "execution_count": 36,
   "id": "60cd1971",
   "metadata": {},
   "outputs": [],
   "source": [
    "pd.DataFrame(df_most_common_words).to_csv('wjsn_MCW.csv', header=['Tweets','Occurences'])"
   ]
  },
  {
   "cell_type": "code",
   "execution_count": 37,
   "id": "cd615503",
   "metadata": {
    "scrolled": true
   },
   "outputs": [
    {
     "data": {
      "text/html": [
       "<div>\n",
       "<style scoped>\n",
       "    .dataframe tbody tr th:only-of-type {\n",
       "        vertical-align: middle;\n",
       "    }\n",
       "\n",
       "    .dataframe tbody tr th {\n",
       "        vertical-align: top;\n",
       "    }\n",
       "\n",
       "    .dataframe thead th {\n",
       "        text-align: right;\n",
       "    }\n",
       "</style>\n",
       "<table border=\"1\" class=\"dataframe\">\n",
       "  <thead>\n",
       "    <tr style=\"text-align: right;\">\n",
       "      <th></th>\n",
       "      <th>Occurence</th>\n",
       "    </tr>\n",
       "    <tr>\n",
       "      <th>Words</th>\n",
       "      <th></th>\n",
       "    </tr>\n",
       "  </thead>\n",
       "  <tbody>\n",
       "    <tr>\n",
       "      <th>wjsn</th>\n",
       "      <td>885</td>\n",
       "    </tr>\n",
       "    <tr>\n",
       "      <th>girl</th>\n",
       "      <td>162</td>\n",
       "    </tr>\n",
       "    <tr>\n",
       "      <th>eunseo</th>\n",
       "      <td>135</td>\n",
       "    </tr>\n",
       "    <tr>\n",
       "      <th>seola</th>\n",
       "      <td>129</td>\n",
       "    </tr>\n",
       "    <tr>\n",
       "      <th>exy</th>\n",
       "      <td>119</td>\n",
       "    </tr>\n",
       "    <tr>\n",
       "      <th>twice</th>\n",
       "      <td>110</td>\n",
       "    </tr>\n",
       "    <tr>\n",
       "      <th>red</th>\n",
       "      <td>107</td>\n",
       "    </tr>\n",
       "    <tr>\n",
       "      <th>velvet</th>\n",
       "      <td>107</td>\n",
       "    </tr>\n",
       "    <tr>\n",
       "      <th>blackpink</th>\n",
       "      <td>104</td>\n",
       "    </tr>\n",
       "    <tr>\n",
       "      <th>weki</th>\n",
       "      <td>103</td>\n",
       "    </tr>\n",
       "    <tr>\n",
       "      <th>meki</th>\n",
       "      <td>103</td>\n",
       "    </tr>\n",
       "    <tr>\n",
       "      <th>like</th>\n",
       "      <td>102</td>\n",
       "    </tr>\n",
       "    <tr>\n",
       "      <th>girls</th>\n",
       "      <td>99</td>\n",
       "    </tr>\n",
       "    <tr>\n",
       "      <th>momoland</th>\n",
       "      <td>97</td>\n",
       "    </tr>\n",
       "    <tr>\n",
       "      <th>know</th>\n",
       "      <td>97</td>\n",
       "    </tr>\n",
       "    <tr>\n",
       "      <th>three</th>\n",
       "      <td>89</td>\n",
       "    </tr>\n",
       "    <tr>\n",
       "      <th>oh</th>\n",
       "      <td>87</td>\n",
       "    </tr>\n",
       "    <tr>\n",
       "      <th>tth</th>\n",
       "      <td>86</td>\n",
       "    </tr>\n",
       "    <tr>\n",
       "      <th>exid</th>\n",
       "      <td>85</td>\n",
       "    </tr>\n",
       "    <tr>\n",
       "      <th>soobin</th>\n",
       "      <td>85</td>\n",
       "    </tr>\n",
       "  </tbody>\n",
       "</table>\n",
       "</div>"
      ],
      "text/plain": [
       "           Occurence\n",
       "Words               \n",
       "wjsn             885\n",
       "girl             162\n",
       "eunseo           135\n",
       "seola            129\n",
       "exy              119\n",
       "twice            110\n",
       "red              107\n",
       "velvet           107\n",
       "blackpink        104\n",
       "weki             103\n",
       "meki             103\n",
       "like             102\n",
       "girls             99\n",
       "momoland          97\n",
       "know              97\n",
       "three             89\n",
       "oh                87\n",
       "tth               86\n",
       "exid              85\n",
       "soobin            85"
      ]
     },
     "execution_count": 37,
     "metadata": {},
     "output_type": "execute_result"
    }
   ],
   "source": [
    "df_most_common_words.columns = ['Words', 'Occurence']\n",
    "df_most_common_words = df_most_common_words.head(20)\n",
    "df_most_common_words = df_most_common_words.set_index('Words')\n",
    "df_most_common_words"
   ]
  },
  {
   "cell_type": "code",
   "execution_count": 38,
   "id": "7590a727",
   "metadata": {},
   "outputs": [
    {
     "data": {
      "image/png": "[encoded data removed]",
      "text/plain": [
       "<Figure size 576x648 with 1 Axes>"
      ]
     },
     "metadata": {
      "needs_background": "light"
     },
     "output_type": "display_data"
    }
   ],
   "source": [
    "mcw_plot = df_most_common_words.plot.bar(title=\"WJSN Most Common Words\",figsize=(8, 9));\n",
    "mcw_plot = mcw_plot.get_figure()\n",
    "mcw_plot.savefig('wjsn_mcw_plot.jpg', dpi=100)"
   ]
  },
  {
   "cell_type": "markdown",
   "id": "ba5af9ce",
   "metadata": {},
   "source": [
    "## TF-IDF"
   ]
  },
  {
   "cell_type": "code",
   "execution_count": 44,
   "id": "6fa88025",
   "metadata": {},
   "outputs": [],
   "source": [
    "vectorizer = TfidfVectorizer(min_df = 2)\n",
    "X = vectorizer.fit_transform(tweet_documents)"
   ]
  },
  {
   "cell_type": "code",
   "execution_count": 45,
   "id": "6ab0c2d3",
   "metadata": {},
   "outputs": [],
   "source": [
    "feature_tfidf = pd.DataFrame(X.toarray(), columns=vectorizer.get_feature_names_out())"
   ]
  },
  {
   "cell_type": "code",
   "execution_count": 46,
   "id": "f590126e",
   "metadata": {},
   "outputs": [],
   "source": [
    "pd.DataFrame(feature_tfidf).to_csv('wjsn - tfidf.csv')"
   ]
  },
  {
   "cell_type": "code",
   "execution_count": 47,
   "id": "53ae2363",
   "metadata": {},
   "outputs": [],
   "source": [
    "feature_tfidf_transposed = feature_tfidf.T\n",
    "feature_tfidf_transposed = feature_tfidf_transposed.sum(axis=1)\n",
    "sorted_feature = feature_tfidf_transposed.sort_values(ascending=False)\n",
    "sorted_feature.index.name ='Words'"
   ]
  },
  {
   "cell_type": "code",
   "execution_count": 48,
   "id": "70cc63e7",
   "metadata": {},
   "outputs": [
    {
     "data": {
      "text/plain": [
       "Words\n",
       "wjsn         35.356839\n",
       "girl         19.763223\n",
       "two          12.428114\n",
       "and          11.682905\n",
       "blackpink    11.098040\n",
       "               ...    \n",
       "talking       0.374775\n",
       "happened      0.356532\n",
       "eighteen      0.331822\n",
       "ptt           0.304703\n",
       "unique        0.294853\n",
       "Length: 554, dtype: float64"
      ]
     },
     "execution_count": 48,
     "metadata": {},
     "output_type": "execute_result"
    }
   ],
   "source": [
    "sorted_feature"
   ]
  },
  {
   "cell_type": "code",
   "execution_count": 49,
   "id": "c0d5311c",
   "metadata": {},
   "outputs": [],
   "source": [
    "sorted_feature = pd.DataFrame(sorted_feature)\n",
    "sorted_feature.columns = ['TF-IDF Sum']"
   ]
  },
  {
   "cell_type": "code",
   "execution_count": 50,
   "id": "f10a87f5",
   "metadata": {},
   "outputs": [],
   "source": [
    "pd.DataFrame(sorted_feature).to_csv('wjsn - tfidf sorted.csv')"
   ]
  },
  {
   "cell_type": "code",
   "execution_count": 51,
   "id": "29b90205",
   "metadata": {},
   "outputs": [],
   "source": [
    "sorted_feature = sorted_feature.head(20)"
   ]
  },
  {
   "cell_type": "code",
   "execution_count": 52,
   "id": "681f044b",
   "metadata": {},
   "outputs": [
    {
     "data": {
      "image/png": "[encoded data removed]",
      "text/plain": [
       "<Figure size 576x648 with 1 Axes>"
      ]
     },
     "metadata": {
      "needs_background": "light"
     },
     "output_type": "display_data"
    }
   ],
   "source": [
    "sorted_feature = pd.DataFrame(sorted_feature, columns=[\"TF-IDF Sum\"])\n",
    "plot = sorted_feature.plot.bar(title=\"WJSN TF-IDF Plot\", figsize=(8, 9));\n",
    "plot = plot.get_figure()"
   ]
  },
  {
   "cell_type": "code",
   "execution_count": 53,
   "id": "375ef472",
   "metadata": {},
   "outputs": [],
   "source": [
    "plot.savefig('wjsn_tf-idf_plot.jpg', dpi=100)"
   ]
  },
  {
   "cell_type": "markdown",
   "id": "c21a5f37",
   "metadata": {},
   "source": [
    "## SENTIMENT ANALYSIS"
   ]
  },
  {
   "cell_type": "code",
   "execution_count": 54,
   "id": "4b8e57a7",
   "metadata": {
    "scrolled": true
   },
   "outputs": [],
   "source": [
    "sentiment_data = tweet_documents"
   ]
  },
  {
   "cell_type": "code",
   "execution_count": 55,
   "id": "cbca0e6a",
   "metadata": {},
   "outputs": [],
   "source": [
    "# Getting the polarity and subjectivity of the tweets\n",
    "positive_tweets = []\n",
    "negative_tweets = []\n",
    "tweet_polarity_list = []\n",
    "polarity_result = []\n",
    "subjectivity_result = []\n",
    "subjectivity_analysis = []\n",
    "for tweet in sentiment_data:\n",
    "    tweet_polarity = TextBlob(tweet).sentiment.polarity\n",
    "    tweet_subjectivity = TextBlob(tweet).sentiment.subjectivity\n",
    "    tweet_polarity_list.append(tweet_polarity)\n",
    "    subjectivity_result.append(tweet_subjectivity)"
   ]
  },
  {
   "cell_type": "code",
   "execution_count": 56,
   "id": "a608c64d",
   "metadata": {},
   "outputs": [],
   "source": [
    "for tweet in tweet_polarity_list:\n",
    "    if tweet == 0.0:\n",
    "        polarity_result.append('Neutral')\n",
    "        continue\n",
    "    elif tweet < 0.0:\n",
    "        polarity_result.append('Negative')\n",
    "        continue\n",
    "    polarity_result.append('Positive')"
   ]
  },
  {
   "cell_type": "code",
   "execution_count": 57,
   "id": "0378bffa",
   "metadata": {
    "scrolled": true
   },
   "outputs": [],
   "source": [
    "for tweet in subjectivity_result:\n",
    "    if tweet > 0.5:\n",
    "        subjectivity_analysis.append('Subjective')\n",
    "        continue\n",
    "    subjectivity_analysis.append('Objective')"
   ]
  },
  {
   "cell_type": "code",
   "execution_count": 58,
   "id": "c0620457",
   "metadata": {},
   "outputs": [
    {
     "data": {
      "text/html": [
       "<div>\n",
       "<style scoped>\n",
       "    .dataframe tbody tr th:only-of-type {\n",
       "        vertical-align: middle;\n",
       "    }\n",
       "\n",
       "    .dataframe tbody tr th {\n",
       "        vertical-align: top;\n",
       "    }\n",
       "\n",
       "    .dataframe thead th {\n",
       "        text-align: right;\n",
       "    }\n",
       "</style>\n",
       "<table border=\"1\" class=\"dataframe\">\n",
       "  <thead>\n",
       "    <tr style=\"text-align: right;\">\n",
       "      <th></th>\n",
       "      <th>Polarity Results</th>\n",
       "      <th>Polarity Analysis</th>\n",
       "      <th>Subjectivity Results</th>\n",
       "      <th>Subjectivity Analysis</th>\n",
       "    </tr>\n",
       "  </thead>\n",
       "  <tbody>\n",
       "    <tr>\n",
       "      <th>0</th>\n",
       "      <td>0.400000</td>\n",
       "      <td>Positive</td>\n",
       "      <td>0.525000</td>\n",
       "      <td>Subjective</td>\n",
       "    </tr>\n",
       "    <tr>\n",
       "      <th>1</th>\n",
       "      <td>0.000000</td>\n",
       "      <td>Neutral</td>\n",
       "      <td>0.000000</td>\n",
       "      <td>Objective</td>\n",
       "    </tr>\n",
       "    <tr>\n",
       "      <th>2</th>\n",
       "      <td>-0.133333</td>\n",
       "      <td>Negative</td>\n",
       "      <td>0.166667</td>\n",
       "      <td>Objective</td>\n",
       "    </tr>\n",
       "    <tr>\n",
       "      <th>3</th>\n",
       "      <td>0.800000</td>\n",
       "      <td>Positive</td>\n",
       "      <td>0.400000</td>\n",
       "      <td>Objective</td>\n",
       "    </tr>\n",
       "    <tr>\n",
       "      <th>4</th>\n",
       "      <td>0.400000</td>\n",
       "      <td>Positive</td>\n",
       "      <td>0.100000</td>\n",
       "      <td>Objective</td>\n",
       "    </tr>\n",
       "    <tr>\n",
       "      <th>...</th>\n",
       "      <td>...</td>\n",
       "      <td>...</td>\n",
       "      <td>...</td>\n",
       "      <td>...</td>\n",
       "    </tr>\n",
       "    <tr>\n",
       "      <th>341</th>\n",
       "      <td>0.700000</td>\n",
       "      <td>Positive</td>\n",
       "      <td>0.600000</td>\n",
       "      <td>Subjective</td>\n",
       "    </tr>\n",
       "    <tr>\n",
       "      <th>342</th>\n",
       "      <td>0.700000</td>\n",
       "      <td>Positive</td>\n",
       "      <td>0.900000</td>\n",
       "      <td>Subjective</td>\n",
       "    </tr>\n",
       "    <tr>\n",
       "      <th>343</th>\n",
       "      <td>0.416667</td>\n",
       "      <td>Positive</td>\n",
       "      <td>0.583333</td>\n",
       "      <td>Subjective</td>\n",
       "    </tr>\n",
       "    <tr>\n",
       "      <th>344</th>\n",
       "      <td>0.000000</td>\n",
       "      <td>Neutral</td>\n",
       "      <td>0.000000</td>\n",
       "      <td>Objective</td>\n",
       "    </tr>\n",
       "    <tr>\n",
       "      <th>345</th>\n",
       "      <td>0.325000</td>\n",
       "      <td>Positive</td>\n",
       "      <td>0.687500</td>\n",
       "      <td>Subjective</td>\n",
       "    </tr>\n",
       "  </tbody>\n",
       "</table>\n",
       "<p>346 rows × 4 columns</p>\n",
       "</div>"
      ],
      "text/plain": [
       "     Polarity Results Polarity Analysis  Subjectivity Results  \\\n",
       "0            0.400000          Positive              0.525000   \n",
       "1            0.000000           Neutral              0.000000   \n",
       "2           -0.133333          Negative              0.166667   \n",
       "3            0.800000          Positive              0.400000   \n",
       "4            0.400000          Positive              0.100000   \n",
       "..                ...               ...                   ...   \n",
       "341          0.700000          Positive              0.600000   \n",
       "342          0.700000          Positive              0.900000   \n",
       "343          0.416667          Positive              0.583333   \n",
       "344          0.000000           Neutral              0.000000   \n",
       "345          0.325000          Positive              0.687500   \n",
       "\n",
       "    Subjectivity Analysis  \n",
       "0              Subjective  \n",
       "1               Objective  \n",
       "2               Objective  \n",
       "3               Objective  \n",
       "4               Objective  \n",
       "..                    ...  \n",
       "341            Subjective  \n",
       "342            Subjective  \n",
       "343            Subjective  \n",
       "344             Objective  \n",
       "345            Subjective  \n",
       "\n",
       "[346 rows x 4 columns]"
      ]
     },
     "execution_count": 58,
     "metadata": {},
     "output_type": "execute_result"
    }
   ],
   "source": [
    "sent_analysis = pd.DataFrame({'Polarity Results': tweet_polarity_list,\n",
    "              'Polarity Analysis': polarity_result,\n",
    "              'Subjectivity Results': subjectivity_result,\n",
    "              'Subjectivity Analysis': subjectivity_analysis})\n",
    "sent_analysis"
   ]
  },
  {
   "cell_type": "code",
   "execution_count": 59,
   "id": "cac7eb96",
   "metadata": {},
   "outputs": [
    {
     "data": {
      "image/png": "[encoded data removed]",
      "text/plain": [
       "<Figure size 720x432 with 1 Axes>"
      ]
     },
     "metadata": {
      "needs_background": "light"
     },
     "output_type": "display_data"
    }
   ],
   "source": [
    "scatter_plot = pd.DataFrame(sent_analysis)\n",
    "scatter_plot_figure = scatter_plot.plot.scatter(title=\"WJSN Scatter Plot\", x='Polarity Results', y='Subjectivity Results', c='DarkBlue', figsize=(10, 6))\n",
    "scatter_plot_figure = scatter_plot_figure.get_figure()\n",
    "scatter_plot_figure.savefig('wjsn_scatter_plot.jpg', dpi=100)"
   ]
  },
  {
   "cell_type": "code",
   "execution_count": 60,
   "id": "14edc9f5",
   "metadata": {},
   "outputs": [
    {
     "data": {
      "text/html": [
       "<div>\n",
       "<style scoped>\n",
       "    .dataframe tbody tr th:only-of-type {\n",
       "        vertical-align: middle;\n",
       "    }\n",
       "\n",
       "    .dataframe tbody tr th {\n",
       "        vertical-align: top;\n",
       "    }\n",
       "\n",
       "    .dataframe thead th {\n",
       "        text-align: right;\n",
       "    }\n",
       "</style>\n",
       "<table border=\"1\" class=\"dataframe\">\n",
       "  <thead>\n",
       "    <tr style=\"text-align: right;\">\n",
       "      <th></th>\n",
       "      <th>Polarity Analysis</th>\n",
       "      <th>Percent</th>\n",
       "    </tr>\n",
       "  </thead>\n",
       "  <tbody>\n",
       "    <tr>\n",
       "      <th>Neutral</th>\n",
       "      <td>170</td>\n",
       "      <td>49.1</td>\n",
       "    </tr>\n",
       "    <tr>\n",
       "      <th>Positive</th>\n",
       "      <td>135</td>\n",
       "      <td>39.0</td>\n",
       "    </tr>\n",
       "    <tr>\n",
       "      <th>Negative</th>\n",
       "      <td>41</td>\n",
       "      <td>11.8</td>\n",
       "    </tr>\n",
       "  </tbody>\n",
       "</table>\n",
       "</div>"
      ],
      "text/plain": [
       "          Polarity Analysis  Percent\n",
       "Neutral                 170     49.1\n",
       "Positive                135     39.0\n",
       "Negative                 41     11.8"
      ]
     },
     "execution_count": 60,
     "metadata": {},
     "output_type": "execute_result"
    }
   ],
   "source": [
    "counts_for_polarity = sent_analysis['Polarity Analysis'].value_counts()\n",
    "counts_for_polarity = pd.DataFrame(counts_for_polarity)\n",
    "counts_for_polarity['Percent'] = round((counts_for_polarity['Polarity Analysis'] / counts_for_polarity['Polarity Analysis'].sum()) * 100, 1)\n",
    "counts_for_polarity"
   ]
  },
  {
   "cell_type": "code",
   "execution_count": 61,
   "id": "1d7ed3e1",
   "metadata": {},
   "outputs": [
    {
     "data": {
      "image/png": "[encoded data removed]",
      "text/plain": [
       "<Figure size 720x432 with 1 Axes>"
      ]
     },
     "metadata": {
      "needs_background": "light"
     },
     "output_type": "display_data"
    }
   ],
   "source": [
    "sentiment_analysis_polarity_plot = counts_for_polarity['Percent'].plot.bar(title=\"Isko Polarity Bar Plot\",figsize=(10, 6));\n",
    "sentiment_analysis_polarity_plot = sentiment_analysis_polarity_plot.get_figure()\n",
    "sentiment_analysis_polarity_plot.savefig('wjsn_polarity_barplot.jpg', dpi=100)"
   ]
  },
  {
   "cell_type": "code",
   "execution_count": 62,
   "id": "d096e2e8",
   "metadata": {},
   "outputs": [],
   "source": [
    "pd.DataFrame(sent_analysis).to_csv('wjsn_sentimentAnalysisResults.csv')"
   ]
  },
  {
   "cell_type": "markdown",
   "id": "6115db9e",
   "metadata": {},
   "source": [
    "## EMOTION DETECTION"
   ]
  },
  {
   "cell_type": "code",
   "execution_count": 63,
   "id": "591f44e5",
   "metadata": {},
   "outputs": [],
   "source": [
    "emotions_detected = []\n",
    "for tweet in tweet_documents:\n",
    "    emotions = te.get_emotion(tweet)\n",
    "    emotions_detected.append(emotions)"
   ]
  },
  {
   "cell_type": "code",
   "execution_count": 64,
   "id": "b59fb0f9",
   "metadata": {},
   "outputs": [
    {
     "data": {
      "text/html": [
       "<div>\n",
       "<style scoped>\n",
       "    .dataframe tbody tr th:only-of-type {\n",
       "        vertical-align: middle;\n",
       "    }\n",
       "\n",
       "    .dataframe tbody tr th {\n",
       "        vertical-align: top;\n",
       "    }\n",
       "\n",
       "    .dataframe thead th {\n",
       "        text-align: right;\n",
       "    }\n",
       "</style>\n",
       "<table border=\"1\" class=\"dataframe\">\n",
       "  <thead>\n",
       "    <tr style=\"text-align: right;\">\n",
       "      <th></th>\n",
       "      <th>Happy</th>\n",
       "      <th>Angry</th>\n",
       "      <th>Surprise</th>\n",
       "      <th>Sad</th>\n",
       "      <th>Fear</th>\n",
       "    </tr>\n",
       "  </thead>\n",
       "  <tbody>\n",
       "    <tr>\n",
       "      <th>0</th>\n",
       "      <td>0.0</td>\n",
       "      <td>0.14</td>\n",
       "      <td>0.57</td>\n",
       "      <td>0.00</td>\n",
       "      <td>0.29</td>\n",
       "    </tr>\n",
       "    <tr>\n",
       "      <th>1</th>\n",
       "      <td>0.0</td>\n",
       "      <td>1.00</td>\n",
       "      <td>0.00</td>\n",
       "      <td>0.00</td>\n",
       "      <td>0.00</td>\n",
       "    </tr>\n",
       "    <tr>\n",
       "      <th>2</th>\n",
       "      <td>0.0</td>\n",
       "      <td>0.00</td>\n",
       "      <td>0.00</td>\n",
       "      <td>0.67</td>\n",
       "      <td>0.33</td>\n",
       "    </tr>\n",
       "    <tr>\n",
       "      <th>3</th>\n",
       "      <td>0.0</td>\n",
       "      <td>0.00</td>\n",
       "      <td>0.00</td>\n",
       "      <td>1.00</td>\n",
       "      <td>0.00</td>\n",
       "    </tr>\n",
       "    <tr>\n",
       "      <th>4</th>\n",
       "      <td>0.0</td>\n",
       "      <td>1.00</td>\n",
       "      <td>0.00</td>\n",
       "      <td>0.00</td>\n",
       "      <td>0.00</td>\n",
       "    </tr>\n",
       "    <tr>\n",
       "      <th>...</th>\n",
       "      <td>...</td>\n",
       "      <td>...</td>\n",
       "      <td>...</td>\n",
       "      <td>...</td>\n",
       "      <td>...</td>\n",
       "    </tr>\n",
       "    <tr>\n",
       "      <th>341</th>\n",
       "      <td>0.5</td>\n",
       "      <td>0.00</td>\n",
       "      <td>0.00</td>\n",
       "      <td>0.00</td>\n",
       "      <td>0.50</td>\n",
       "    </tr>\n",
       "    <tr>\n",
       "      <th>342</th>\n",
       "      <td>0.2</td>\n",
       "      <td>0.00</td>\n",
       "      <td>0.20</td>\n",
       "      <td>0.20</td>\n",
       "      <td>0.40</td>\n",
       "    </tr>\n",
       "    <tr>\n",
       "      <th>343</th>\n",
       "      <td>0.0</td>\n",
       "      <td>0.00</td>\n",
       "      <td>0.00</td>\n",
       "      <td>1.00</td>\n",
       "      <td>0.00</td>\n",
       "    </tr>\n",
       "    <tr>\n",
       "      <th>344</th>\n",
       "      <td>0.0</td>\n",
       "      <td>0.00</td>\n",
       "      <td>0.00</td>\n",
       "      <td>0.00</td>\n",
       "      <td>0.00</td>\n",
       "    </tr>\n",
       "    <tr>\n",
       "      <th>345</th>\n",
       "      <td>0.2</td>\n",
       "      <td>0.20</td>\n",
       "      <td>0.20</td>\n",
       "      <td>0.00</td>\n",
       "      <td>0.40</td>\n",
       "    </tr>\n",
       "  </tbody>\n",
       "</table>\n",
       "<p>346 rows × 5 columns</p>\n",
       "</div>"
      ],
      "text/plain": [
       "     Happy  Angry  Surprise   Sad  Fear\n",
       "0      0.0   0.14      0.57  0.00  0.29\n",
       "1      0.0   1.00      0.00  0.00  0.00\n",
       "2      0.0   0.00      0.00  0.67  0.33\n",
       "3      0.0   0.00      0.00  1.00  0.00\n",
       "4      0.0   1.00      0.00  0.00  0.00\n",
       "..     ...    ...       ...   ...   ...\n",
       "341    0.5   0.00      0.00  0.00  0.50\n",
       "342    0.2   0.00      0.20  0.20  0.40\n",
       "343    0.0   0.00      0.00  1.00  0.00\n",
       "344    0.0   0.00      0.00  0.00  0.00\n",
       "345    0.2   0.20      0.20  0.00  0.40\n",
       "\n",
       "[346 rows x 5 columns]"
      ]
     },
     "execution_count": 64,
     "metadata": {},
     "output_type": "execute_result"
    }
   ],
   "source": [
    "emotions_detected = pd.DataFrame(emotions_detected)\n",
    "emotions_detected"
   ]
  },
  {
   "cell_type": "code",
   "execution_count": 65,
   "id": "c7e5233a",
   "metadata": {},
   "outputs": [
    {
     "data": {
      "text/plain": [
       "Happy       37.48\n",
       "Angry       34.23\n",
       "Surprise    95.44\n",
       "Sad         52.92\n",
       "Fear        60.71\n",
       "dtype: float64"
      ]
     },
     "execution_count": 65,
     "metadata": {},
     "output_type": "execute_result"
    }
   ],
   "source": [
    "emotions_transposed = emotions_detected.T\n",
    "emotions_transposed = emotions_transposed.sum(axis=1)\n",
    "emotions_transposed"
   ]
  },
  {
   "cell_type": "code",
   "execution_count": 66,
   "id": "33bb6285",
   "metadata": {
    "scrolled": true
   },
   "outputs": [],
   "source": [
    "emotions_transposed_plot = pd.DataFrame(emotions_transposed)"
   ]
  },
  {
   "cell_type": "code",
   "execution_count": 67,
   "id": "c226fd3e",
   "metadata": {},
   "outputs": [
    {
     "data": {
      "text/html": [
       "<div>\n",
       "<style scoped>\n",
       "    .dataframe tbody tr th:only-of-type {\n",
       "        vertical-align: middle;\n",
       "    }\n",
       "\n",
       "    .dataframe tbody tr th {\n",
       "        vertical-align: top;\n",
       "    }\n",
       "\n",
       "    .dataframe thead th {\n",
       "        text-align: right;\n",
       "    }\n",
       "</style>\n",
       "<table border=\"1\" class=\"dataframe\">\n",
       "  <thead>\n",
       "    <tr style=\"text-align: right;\">\n",
       "      <th></th>\n",
       "      <th>Emotion Value Total</th>\n",
       "    </tr>\n",
       "  </thead>\n",
       "  <tbody>\n",
       "    <tr>\n",
       "      <th>Happy</th>\n",
       "      <td>37.48</td>\n",
       "    </tr>\n",
       "    <tr>\n",
       "      <th>Angry</th>\n",
       "      <td>34.23</td>\n",
       "    </tr>\n",
       "    <tr>\n",
       "      <th>Surprise</th>\n",
       "      <td>95.44</td>\n",
       "    </tr>\n",
       "    <tr>\n",
       "      <th>Sad</th>\n",
       "      <td>52.92</td>\n",
       "    </tr>\n",
       "    <tr>\n",
       "      <th>Fear</th>\n",
       "      <td>60.71</td>\n",
       "    </tr>\n",
       "  </tbody>\n",
       "</table>\n",
       "</div>"
      ],
      "text/plain": [
       "          Emotion Value Total\n",
       "Happy                   37.48\n",
       "Angry                   34.23\n",
       "Surprise                95.44\n",
       "Sad                     52.92\n",
       "Fear                    60.71"
      ]
     },
     "execution_count": 67,
     "metadata": {},
     "output_type": "execute_result"
    }
   ],
   "source": [
    "emotions_transposed_plot.columns = ['Emotion Value Total']\n",
    "emotions_transposed_plot"
   ]
  },
  {
   "cell_type": "code",
   "execution_count": 68,
   "id": "215db96a",
   "metadata": {},
   "outputs": [
    {
     "data": {
      "image/png": "[encoded data removed]",
      "text/plain": [
       "<Figure size 432x432 with 1 Axes>"
      ]
     },
     "metadata": {},
     "output_type": "display_data"
    }
   ],
   "source": [
    "emotions_transposed_plot = emotions_transposed_plot.plot.pie(title=\"WJSN Tweet Emotions\", ylabel=None, legend=None,subplots=True, figsize=(6, 6), autopct='%1.1f%%');"
   ]
  },
  {
   "cell_type": "code",
   "execution_count": 69,
   "id": "01f1b8aa",
   "metadata": {},
   "outputs": [],
   "source": [
    "emotions_transposed_plot = emotions_transposed_plot[0].get_figure()\n",
    "emotions_transposed_plot.savefig('wjsn_emotion_plot.jpg', dpi=100)"
   ]
  },
  {
   "cell_type": "code",
   "execution_count": 70,
   "id": "f43e8038",
   "metadata": {},
   "outputs": [],
   "source": [
    "df_emotions_detected = pd.DataFrame(emotions_detected).to_csv('wjsn_emotionDetection.csv')"
   ]
  },
  {
   "cell_type": "code",
   "execution_count": null,
   "id": "f6339de9",
   "metadata": {},
   "outputs": [],
   "source": []
  }
 ],
 "metadata": {
  "kernelspec": {
   "display_name": "Python 3 (ipykernel)",
   "language": "python",
   "name": "python3"
  },
  "language_info": {
   "codemirror_mode": {
    "name": "ipython",
    "version": 3
   },
   "file_extension": ".py",
   "mimetype": "text/x-python",
   "name": "python",
   "nbconvert_exporter": "python",
   "pygments_lexer": "ipython3",
   "version": "3.9.7"
  }
 },
 "nbformat": 4,
 "nbformat_minor": 5
}
