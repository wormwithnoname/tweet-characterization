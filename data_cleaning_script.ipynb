{
 "cells": [
  {
   "cell_type": "markdown",
   "id": "93b8bcd8",
   "metadata": {},
   "source": [
    "# Twitter Data Cleaning Script"
   ]
  },
  {
   "cell_type": "markdown",
   "id": "2fb2dce4",
   "metadata": {},
   "source": [
    "#### Import necessary packages for data cleaning and visualization"
   ]
  },
  {
   "cell_type": "code",
   "execution_count": 12,
   "id": "e32e5a69",
   "metadata": {
    "scrolled": true
   },
   "outputs": [],
   "source": [
    "import pandas as pd\n",
    "import numpy as np\n",
    "import nltk\n",
    "import advertools as adv\n",
    "import text2emotion as te\n",
    "import matplotlib.pyplot as plt\n",
    "from textblob import TextBlob\n",
    "from normalizer import preprocess\n",
    "from collections import Counter\n",
    "from sklearn.feature_extraction.text import TfidfVectorizer"
   ]
  },
  {
   "cell_type": "markdown",
   "id": "13c3718c",
   "metadata": {},
   "source": [
    "## PREPROCESSING"
   ]
  },
  {
   "cell_type": "code",
   "execution_count": 13,
   "id": "dee57bba",
   "metadata": {},
   "outputs": [],
   "source": [
    "data = pd.read_csv('./hyunhotime.csv', engine='python')"
   ]
  },
  {
   "cell_type": "markdown",
   "id": "ea76856e",
   "metadata": {},
   "source": [
    "#### *Filter only english tweets from collected data"
   ]
  },
  {
   "cell_type": "code",
   "execution_count": 14,
   "id": "e5b91919",
   "metadata": {
    "scrolled": true
   },
   "outputs": [],
   "source": [
    "english_only = data.loc[data['lang'] == 'en']"
   ]
  },
  {
   "cell_type": "code",
   "execution_count": 15,
   "id": "51808638",
   "metadata": {},
   "outputs": [],
   "source": [
    "text_data = english_only['text'].to_numpy()"
   ]
  },
  {
   "cell_type": "markdown",
   "id": "93d3cf52",
   "metadata": {},
   "source": [
    "#### Process tweets using the normalizer.py for cleaning"
   ]
  },
  {
   "cell_type": "code",
   "execution_count": 67,
   "id": "5d62336e",
   "metadata": {},
   "outputs": [],
   "source": [
    "preprocessed_text_data = [preprocess(text) for text in text_data]"
   ]
  },
  {
   "cell_type": "markdown",
   "id": "1bc24503",
   "metadata": {},
   "source": [
    "#### Removing duplicates"
   ]
  },
  {
   "cell_type": "code",
   "execution_count": 68,
   "id": "e6b4c90f",
   "metadata": {
    "scrolled": true
   },
   "outputs": [],
   "source": [
    "tweet_documents = np.unique([\" \".join(sent) for sent in preprocessed_text_data])"
   ]
  },
  {
   "cell_type": "markdown",
   "id": "bed1f0fb",
   "metadata": {},
   "source": [
    "###### from here a certain feature should be selected to get your desired results"
   ]
  },
  {
   "cell_type": "markdown",
   "id": "bd14a464",
   "metadata": {},
   "source": [
    "## PLOTTING TWEETS OVER TIME"
   ]
  },
  {
   "cell_type": "code",
   "execution_count": 33,
   "id": "2428e1fe",
   "metadata": {},
   "outputs": [],
   "source": [
    "retweeted_data_time = data\n",
    "retweeted_data_time.rename(columns={'created_at': 'date'}, inplace=True)\n",
    "retweeted_data_time = retweeted_data_time[['date']]\n",
    "retweeted_data_time = retweeted_data_time.assign(count=1) #count added to know how many tweets are made over time\n",
    "retweeted_data_time = retweeted_data_time.set_index('date')"
   ]
  },
  {
   "cell_type": "code",
   "execution_count": 34,
   "id": "2e58fb56",
   "metadata": {
    "scrolled": true
   },
   "outputs": [],
   "source": [
    "retweeted_data_time.index = pd.to_datetime(retweeted_data_time.index) #change the datatype of the data frame item from str to datetime data type "
   ]
  },
  {
   "cell_type": "code",
   "execution_count": 35,
   "id": "2c6771b4",
   "metadata": {
    "collapsed": true
   },
   "outputs": [
    {
     "data": {
      "image/png": "[encoded data removed]",
      "text/plain": [
       "<Figure size 432x288 with 1 Axes>"
      ]
     },
     "metadata": {
      "needs_background": "light"
     },
     "output_type": "display_data"
    }
   ],
   "source": [
    "retweeted_data_time = retweeted_data_time['count'].resample('5T').sum()\\\n",
    ".plot(ylabel='Occurences', xlabel='Time', title='\"User Hyunhotime\" Tweet Activity'); #resampling needed for method frequency conversion"
   ]
  },
  {
   "cell_type": "code",
   "execution_count": 36,
   "id": "66405fde",
   "metadata": {},
   "outputs": [],
   "source": [
    "tweet_activity_plot = retweeted_data_time;\n",
    "tweet_activity_plot = tweet_activity_plot.get_figure()\n",
    "tweet_activity_plot.savefig('hyunhotime_mcw_plot.jpg', dpi=100)"
   ]
  },
  {
   "cell_type": "markdown",
   "id": "8954c49d",
   "metadata": {},
   "source": [
    "## RETWEETS"
   ]
  },
  {
   "cell_type": "code",
   "execution_count": 23,
   "id": "3e13c3d3",
   "metadata": {
    "scrolled": false
   },
   "outputs": [],
   "source": [
    "retweeted_data = data\n",
    "retweeted_data.rename(columns={'public_metrics.retweet_count': 'retweets', 'public_metrics.like_count': 'likes', \n",
    "                               'lang': 'language'}, inplace=True)\n",
    "retweeted_data = retweeted_data[['text', 'retweets','likes','language']]"
   ]
  },
  {
   "cell_type": "code",
   "execution_count": 24,
   "id": "fc7ae3b1",
   "metadata": {
    "collapsed": true
   },
   "outputs": [
    {
     "data": {
      "text/html": [
       "<div>\n",
       "<style scoped>\n",
       "    .dataframe tbody tr th:only-of-type {\n",
       "        vertical-align: middle;\n",
       "    }\n",
       "\n",
       "    .dataframe tbody tr th {\n",
       "        vertical-align: top;\n",
       "    }\n",
       "\n",
       "    .dataframe thead th {\n",
       "        text-align: right;\n",
       "    }\n",
       "</style>\n",
       "<table border=\"1\" class=\"dataframe\">\n",
       "  <thead>\n",
       "    <tr style=\"text-align: right;\">\n",
       "      <th></th>\n",
       "      <th>text</th>\n",
       "      <th>retweets</th>\n",
       "      <th>likes</th>\n",
       "      <th>language</th>\n",
       "    </tr>\n",
       "  </thead>\n",
       "  <tbody>\n",
       "    <tr>\n",
       "      <th>0</th>\n",
       "      <td>@.hyunhotime @.notleebit @.hyunhomail @.notseu...</td>\n",
       "      <td>277</td>\n",
       "      <td>1310</td>\n",
       "      <td>en</td>\n",
       "    </tr>\n",
       "    <tr>\n",
       "      <th>337</th>\n",
       "      <td>who’s gonna tell hyunhotime that not everyone ...</td>\n",
       "      <td>277</td>\n",
       "      <td>2017</td>\n",
       "      <td>en</td>\n",
       "    </tr>\n",
       "    <tr>\n",
       "      <th>402</th>\n",
       "      <td>@.hyunhotime @.notleebit @.hyunhomail @.notseu...</td>\n",
       "      <td>277</td>\n",
       "      <td>1310</td>\n",
       "      <td>en</td>\n",
       "    </tr>\n",
       "    <tr>\n",
       "      <th>400</th>\n",
       "      <td>@.hyunhotime @.notleebit @.hyunhomail @.notseu...</td>\n",
       "      <td>277</td>\n",
       "      <td>1310</td>\n",
       "      <td>en</td>\n",
       "    </tr>\n",
       "    <tr>\n",
       "      <th>393</th>\n",
       "      <td>who’s gonna tell hyunhotime that not everyone ...</td>\n",
       "      <td>277</td>\n",
       "      <td>2017</td>\n",
       "      <td>en</td>\n",
       "    </tr>\n",
       "    <tr>\n",
       "      <th>...</th>\n",
       "      <td>...</td>\n",
       "      <td>...</td>\n",
       "      <td>...</td>\n",
       "      <td>...</td>\n",
       "    </tr>\n",
       "    <tr>\n",
       "      <th>1059</th>\n",
       "      <td>Hyunhotime nth offense</td>\n",
       "      <td>0</td>\n",
       "      <td>0</td>\n",
       "      <td>en</td>\n",
       "    </tr>\n",
       "    <tr>\n",
       "      <th>1058</th>\n",
       "      <td>@hwngkys HYUNHOTIME https://t.co/ioVoYmiMnY</td>\n",
       "      <td>0</td>\n",
       "      <td>1</td>\n",
       "      <td>en</td>\n",
       "    </tr>\n",
       "    <tr>\n",
       "      <th>1057</th>\n",
       "      <td>@hyunhotime bakit ka nagdeact</td>\n",
       "      <td>0</td>\n",
       "      <td>0</td>\n",
       "      <td>tl</td>\n",
       "    </tr>\n",
       "    <tr>\n",
       "      <th>1055</th>\n",
       "      <td>paktay ka hyunhotime fkdmsk</td>\n",
       "      <td>0</td>\n",
       "      <td>0</td>\n",
       "      <td>cs</td>\n",
       "    </tr>\n",
       "    <tr>\n",
       "      <th>2074</th>\n",
       "      <td>que dorrrr no meu peitooo https://t.co/3g6OaH5...</td>\n",
       "      <td>0</td>\n",
       "      <td>0</td>\n",
       "      <td>pt</td>\n",
       "    </tr>\n",
       "  </tbody>\n",
       "</table>\n",
       "<p>2075 rows × 4 columns</p>\n",
       "</div>"
      ],
      "text/plain": [
       "                                                   text  retweets  likes  \\\n",
       "0     @.hyunhotime @.notleebit @.hyunhomail @.notseu...       277   1310   \n",
       "337   who’s gonna tell hyunhotime that not everyone ...       277   2017   \n",
       "402   @.hyunhotime @.notleebit @.hyunhomail @.notseu...       277   1310   \n",
       "400   @.hyunhotime @.notleebit @.hyunhomail @.notseu...       277   1310   \n",
       "393   who’s gonna tell hyunhotime that not everyone ...       277   2017   \n",
       "...                                                 ...       ...    ...   \n",
       "1059                             Hyunhotime nth offense         0      0   \n",
       "1058        @hwngkys HYUNHOTIME https://t.co/ioVoYmiMnY         0      1   \n",
       "1057                      @hyunhotime bakit ka nagdeact         0      0   \n",
       "1055                        paktay ka hyunhotime fkdmsk         0      0   \n",
       "2074  que dorrrr no meu peitooo https://t.co/3g6OaH5...         0      0   \n",
       "\n",
       "     language  \n",
       "0          en  \n",
       "337        en  \n",
       "402        en  \n",
       "400        en  \n",
       "393        en  \n",
       "...       ...  \n",
       "1059       en  \n",
       "1058       en  \n",
       "1057       tl  \n",
       "1055       cs  \n",
       "2074       pt  \n",
       "\n",
       "[2075 rows x 4 columns]"
      ]
     },
     "execution_count": 24,
     "metadata": {},
     "output_type": "execute_result"
    }
   ],
   "source": [
    "retweeted_data = retweeted_data[[\"text\", \"retweets\", \"likes\", \"language\"]]\n",
    "retweeted_data.sort_values(\"retweets\", inplace = True, ascending = False)\n",
    "retweeted_data"
   ]
  },
  {
   "cell_type": "code",
   "execution_count": 163,
   "id": "2e3f6574",
   "metadata": {
    "scrolled": true
   },
   "outputs": [],
   "source": [
    "retweeted_data = retweeted_data[[\"text\", \"retweets\", \"likes\", \"language\"]]\n",
    "retweeted_data.sort_values(\"retweets\", inplace = True, ascending = False)\n",
    "retweeted_data.drop_duplicates(subset =\"retweets\", keep = 'first', inplace = True)"
   ]
  },
  {
   "cell_type": "markdown",
   "id": "a907d8a1",
   "metadata": {},
   "source": [
    "##### English only retweets"
   ]
  },
  {
   "cell_type": "code",
   "execution_count": 164,
   "id": "ea7a637d",
   "metadata": {
    "collapsed": true
   },
   "outputs": [
    {
     "data": {
      "text/html": [
       "<div>\n",
       "<style scoped>\n",
       "    .dataframe tbody tr th:only-of-type {\n",
       "        vertical-align: middle;\n",
       "    }\n",
       "\n",
       "    .dataframe tbody tr th {\n",
       "        vertical-align: top;\n",
       "    }\n",
       "\n",
       "    .dataframe thead th {\n",
       "        text-align: right;\n",
       "    }\n",
       "</style>\n",
       "<table border=\"1\" class=\"dataframe\">\n",
       "  <thead>\n",
       "    <tr style=\"text-align: right;\">\n",
       "      <th></th>\n",
       "      <th>retweets</th>\n",
       "      <th>likes</th>\n",
       "      <th>language</th>\n",
       "    </tr>\n",
       "  </thead>\n",
       "  <tbody>\n",
       "    <tr>\n",
       "      <th>0</th>\n",
       "      <td>277</td>\n",
       "      <td>1310</td>\n",
       "      <td>en</td>\n",
       "    </tr>\n",
       "    <tr>\n",
       "      <th>419</th>\n",
       "      <td>192</td>\n",
       "      <td>1442</td>\n",
       "      <td>en</td>\n",
       "    </tr>\n",
       "    <tr>\n",
       "      <th>579</th>\n",
       "      <td>136</td>\n",
       "      <td>938</td>\n",
       "      <td>en</td>\n",
       "    </tr>\n",
       "    <tr>\n",
       "      <th>768</th>\n",
       "      <td>85</td>\n",
       "      <td>553</td>\n",
       "      <td>en</td>\n",
       "    </tr>\n",
       "    <tr>\n",
       "      <th>328</th>\n",
       "      <td>38</td>\n",
       "      <td>259</td>\n",
       "      <td>en</td>\n",
       "    </tr>\n",
       "    <tr>\n",
       "      <th>294</th>\n",
       "      <td>11</td>\n",
       "      <td>113</td>\n",
       "      <td>en</td>\n",
       "    </tr>\n",
       "    <tr>\n",
       "      <th>280</th>\n",
       "      <td>7</td>\n",
       "      <td>29</td>\n",
       "      <td>en</td>\n",
       "    </tr>\n",
       "    <tr>\n",
       "      <th>414</th>\n",
       "      <td>6</td>\n",
       "      <td>42</td>\n",
       "      <td>en</td>\n",
       "    </tr>\n",
       "    <tr>\n",
       "      <th>304</th>\n",
       "      <td>5</td>\n",
       "      <td>49</td>\n",
       "      <td>en</td>\n",
       "    </tr>\n",
       "    <tr>\n",
       "      <th>1978</th>\n",
       "      <td>4</td>\n",
       "      <td>12</td>\n",
       "      <td>en</td>\n",
       "    </tr>\n",
       "    <tr>\n",
       "      <th>956</th>\n",
       "      <td>3</td>\n",
       "      <td>49</td>\n",
       "      <td>en</td>\n",
       "    </tr>\n",
       "  </tbody>\n",
       "</table>\n",
       "</div>"
      ],
      "text/plain": [
       "      retweets  likes language\n",
       "0          277   1310       en\n",
       "419        192   1442       en\n",
       "579        136    938       en\n",
       "768         85    553       en\n",
       "328         38    259       en\n",
       "294         11    113       en\n",
       "280          7     29       en\n",
       "414          6     42       en\n",
       "304          5     49       en\n",
       "1978         4     12       en\n",
       "956          3     49       en"
      ]
     },
     "execution_count": 164,
     "metadata": {},
     "output_type": "execute_result"
    }
   ],
   "source": [
    "english_only_rt_data = retweeted_data.query(\"language == 'en'\")\n",
    "english_only_rt_data = english_only_rt_data[[\"retweets\", \"likes\",\"language\"]]\n",
    "english_only_rt_data"
   ]
  },
  {
   "cell_type": "markdown",
   "id": "c1dec6e3",
   "metadata": {},
   "source": [
    "##### Non-english retweets"
   ]
  },
  {
   "cell_type": "code",
   "execution_count": 165,
   "id": "189d14e0",
   "metadata": {
    "collapsed": true
   },
   "outputs": [
    {
     "data": {
      "text/html": [
       "<div>\n",
       "<style scoped>\n",
       "    .dataframe tbody tr th:only-of-type {\n",
       "        vertical-align: middle;\n",
       "    }\n",
       "\n",
       "    .dataframe tbody tr th {\n",
       "        vertical-align: top;\n",
       "    }\n",
       "\n",
       "    .dataframe thead th {\n",
       "        text-align: right;\n",
       "    }\n",
       "</style>\n",
       "<table border=\"1\" class=\"dataframe\">\n",
       "  <thead>\n",
       "    <tr style=\"text-align: right;\">\n",
       "      <th></th>\n",
       "      <th>retweets</th>\n",
       "      <th>likes</th>\n",
       "      <th>language</th>\n",
       "    </tr>\n",
       "  </thead>\n",
       "  <tbody>\n",
       "    <tr>\n",
       "      <th>0</th>\n",
       "      <td>277</td>\n",
       "      <td>1310</td>\n",
       "      <td>en</td>\n",
       "    </tr>\n",
       "    <tr>\n",
       "      <th>1994</th>\n",
       "      <td>197</td>\n",
       "      <td>519</td>\n",
       "      <td>pt</td>\n",
       "    </tr>\n",
       "    <tr>\n",
       "      <th>419</th>\n",
       "      <td>192</td>\n",
       "      <td>1442</td>\n",
       "      <td>en</td>\n",
       "    </tr>\n",
       "    <tr>\n",
       "      <th>579</th>\n",
       "      <td>136</td>\n",
       "      <td>938</td>\n",
       "      <td>en</td>\n",
       "    </tr>\n",
       "    <tr>\n",
       "      <th>1940</th>\n",
       "      <td>96</td>\n",
       "      <td>493</td>\n",
       "      <td>es</td>\n",
       "    </tr>\n",
       "    <tr>\n",
       "      <th>768</th>\n",
       "      <td>85</td>\n",
       "      <td>553</td>\n",
       "      <td>en</td>\n",
       "    </tr>\n",
       "    <tr>\n",
       "      <th>1916</th>\n",
       "      <td>77</td>\n",
       "      <td>217</td>\n",
       "      <td>pt</td>\n",
       "    </tr>\n",
       "    <tr>\n",
       "      <th>328</th>\n",
       "      <td>38</td>\n",
       "      <td>259</td>\n",
       "      <td>en</td>\n",
       "    </tr>\n",
       "    <tr>\n",
       "      <th>1811</th>\n",
       "      <td>35</td>\n",
       "      <td>19</td>\n",
       "      <td>th</td>\n",
       "    </tr>\n",
       "    <tr>\n",
       "      <th>1770</th>\n",
       "      <td>30</td>\n",
       "      <td>34</td>\n",
       "      <td>th</td>\n",
       "    </tr>\n",
       "    <tr>\n",
       "      <th>326</th>\n",
       "      <td>29</td>\n",
       "      <td>530</td>\n",
       "      <td>tl</td>\n",
       "    </tr>\n",
       "    <tr>\n",
       "      <th>1904</th>\n",
       "      <td>23</td>\n",
       "      <td>123</td>\n",
       "      <td>es</td>\n",
       "    </tr>\n",
       "    <tr>\n",
       "      <th>1687</th>\n",
       "      <td>20</td>\n",
       "      <td>19</td>\n",
       "      <td>ko</td>\n",
       "    </tr>\n",
       "    <tr>\n",
       "      <th>1757</th>\n",
       "      <td>18</td>\n",
       "      <td>99</td>\n",
       "      <td>es</td>\n",
       "    </tr>\n",
       "    <tr>\n",
       "      <th>1837</th>\n",
       "      <td>15</td>\n",
       "      <td>63</td>\n",
       "      <td>und</td>\n",
       "    </tr>\n",
       "    <tr>\n",
       "      <th>1964</th>\n",
       "      <td>12</td>\n",
       "      <td>112</td>\n",
       "      <td>in</td>\n",
       "    </tr>\n",
       "    <tr>\n",
       "      <th>294</th>\n",
       "      <td>11</td>\n",
       "      <td>113</td>\n",
       "      <td>en</td>\n",
       "    </tr>\n",
       "    <tr>\n",
       "      <th>1772</th>\n",
       "      <td>9</td>\n",
       "      <td>13</td>\n",
       "      <td>und</td>\n",
       "    </tr>\n",
       "    <tr>\n",
       "      <th>2046</th>\n",
       "      <td>8</td>\n",
       "      <td>22</td>\n",
       "      <td>pt</td>\n",
       "    </tr>\n",
       "    <tr>\n",
       "      <th>280</th>\n",
       "      <td>7</td>\n",
       "      <td>29</td>\n",
       "      <td>en</td>\n",
       "    </tr>\n",
       "    <tr>\n",
       "      <th>414</th>\n",
       "      <td>6</td>\n",
       "      <td>42</td>\n",
       "      <td>en</td>\n",
       "    </tr>\n",
       "    <tr>\n",
       "      <th>304</th>\n",
       "      <td>5</td>\n",
       "      <td>49</td>\n",
       "      <td>en</td>\n",
       "    </tr>\n",
       "    <tr>\n",
       "      <th>1978</th>\n",
       "      <td>4</td>\n",
       "      <td>12</td>\n",
       "      <td>en</td>\n",
       "    </tr>\n",
       "    <tr>\n",
       "      <th>956</th>\n",
       "      <td>3</td>\n",
       "      <td>49</td>\n",
       "      <td>en</td>\n",
       "    </tr>\n",
       "    <tr>\n",
       "      <th>301</th>\n",
       "      <td>2</td>\n",
       "      <td>13</td>\n",
       "      <td>tl</td>\n",
       "    </tr>\n",
       "    <tr>\n",
       "      <th>1519</th>\n",
       "      <td>1</td>\n",
       "      <td>6</td>\n",
       "      <td>und</td>\n",
       "    </tr>\n",
       "    <tr>\n",
       "      <th>1876</th>\n",
       "      <td>0</td>\n",
       "      <td>0</td>\n",
       "      <td>sv</td>\n",
       "    </tr>\n",
       "  </tbody>\n",
       "</table>\n",
       "</div>"
      ],
      "text/plain": [
       "      retweets  likes language\n",
       "0          277   1310       en\n",
       "1994       197    519       pt\n",
       "419        192   1442       en\n",
       "579        136    938       en\n",
       "1940        96    493       es\n",
       "768         85    553       en\n",
       "1916        77    217       pt\n",
       "328         38    259       en\n",
       "1811        35     19       th\n",
       "1770        30     34       th\n",
       "326         29    530       tl\n",
       "1904        23    123       es\n",
       "1687        20     19       ko\n",
       "1757        18     99       es\n",
       "1837        15     63      und\n",
       "1964        12    112       in\n",
       "294         11    113       en\n",
       "1772         9     13      und\n",
       "2046         8     22       pt\n",
       "280          7     29       en\n",
       "414          6     42       en\n",
       "304          5     49       en\n",
       "1978         4     12       en\n",
       "956          3     49       en\n",
       "301          2     13       tl\n",
       "1519         1      6      und\n",
       "1876         0      0       sv"
      ]
     },
     "execution_count": 165,
     "metadata": {},
     "output_type": "execute_result"
    }
   ],
   "source": [
    "retweeted_data = retweeted_data[[\"retweets\", \"likes\",\"language\"]]\n",
    "retweeted_data"
   ]
  },
  {
   "cell_type": "code",
   "execution_count": 8,
   "id": "f665d3a3",
   "metadata": {},
   "outputs": [],
   "source": [
    "df_retweeted_count = pd.DataFrame(retweeted_data).to_csv('sinatraa_retweetCount-non_english.csv', header=['Retweets', 'Likes', 'Language'])"
   ]
  },
  {
   "cell_type": "code",
   "execution_count": 55,
   "id": "cf3d5cda",
   "metadata": {},
   "outputs": [],
   "source": [
    "df_retweeted_count_en = pd.DataFrame(english_only_rt_data).to_csv('sinatraa_retweetCount-english.csv', header=['Retweets', 'Likes', 'Language'])"
   ]
  },
  {
   "cell_type": "markdown",
   "id": "46404134",
   "metadata": {},
   "source": [
    "## EMOJI ABSENCE PRESENCE"
   ]
  },
  {
   "cell_type": "code",
   "execution_count": 36,
   "id": "c168e37d",
   "metadata": {
    "scrolled": true
   },
   "outputs": [],
   "source": [
    "emojis_in_tweet = adv.extract_emoji(text_data)\n",
    "emoji_for_binarizer = emojis_in_tweet['emoji_counts']\n",
    "df_emoji_count = pd.DataFrame(emojis_in_tweet['emoji_counts'])"
   ]
  },
  {
   "cell_type": "code",
   "execution_count": 37,
   "id": "1c3c524e",
   "metadata": {},
   "outputs": [],
   "source": [
    "df_emoji_count = pd.DataFrame(df_emoji_count).to_csv('hyunhotime_emojiCount.csv', header=['Emoji Count'])"
   ]
  },
  {
   "cell_type": "markdown",
   "id": "bc492dc1",
   "metadata": {},
   "source": [
    "#### Binarizer"
   ]
  },
  {
   "cell_type": "code",
   "execution_count": 38,
   "id": "63829944",
   "metadata": {},
   "outputs": [],
   "source": [
    "emoji_for_binarizer = [0] + [1 if emoji_for_binarizer[i] > emoji_for_binarizer[i-1] else 0  for i in range(1, len(emoji_for_binarizer))]"
   ]
  },
  {
   "cell_type": "code",
   "execution_count": 39,
   "id": "dd5d66fe",
   "metadata": {},
   "outputs": [],
   "source": [
    "df_emoji_binarized = pd.DataFrame(emoji_for_binarizer)\n",
    "df_emoji_binarized.columns = ['Emoji Absence/Presence']"
   ]
  },
  {
   "cell_type": "code",
   "execution_count": 40,
   "id": "795757c6",
   "metadata": {},
   "outputs": [],
   "source": [
    "value = df_emoji_binarized.value_counts(normalize=True)*100"
   ]
  },
  {
   "cell_type": "code",
   "execution_count": 41,
   "id": "ebcb0c86",
   "metadata": {},
   "outputs": [
    {
     "data": {
      "image/png": "[encoded data removed]",
      "text/plain": [
       "<Figure size 432x432 with 1 Axes>"
      ]
     },
     "metadata": {},
     "output_type": "display_data"
    }
   ],
   "source": [
    "emoji_plot = value.plot.pie(ylabel='Absence/Presence', title='Emoji Percentage', legend=None,subplots=True, figsize=(6, 6), autopct='%1.1f%%')"
   ]
  },
  {
   "cell_type": "code",
   "execution_count": 42,
   "id": "28bb18de",
   "metadata": {},
   "outputs": [],
   "source": [
    "emoji_plot = emoji_plot[0].get_figure()\n",
    "emoji_plot.savefig('hyunhotime_emoji_plot.jpg', dpi=100)"
   ]
  },
  {
   "cell_type": "code",
   "execution_count": 230,
   "id": "3fa31e86",
   "metadata": {},
   "outputs": [],
   "source": [
    "pd.DataFrame(df_emoji_binarized).to_csv('sinatraa_emojiCountBinarized.csv', header=['Emoji Absence/Presence'])"
   ]
  },
  {
   "cell_type": "markdown",
   "id": "dd828b39",
   "metadata": {},
   "source": [
    "## MOST COMMON WORDS"
   ]
  },
  {
   "cell_type": "code",
   "execution_count": 9,
   "id": "b77d89c9",
   "metadata": {},
   "outputs": [],
   "source": [
    "joined_words = sum(preprocessed_text_data, [])\n",
    "c = Counter(joined_words)"
   ]
  },
  {
   "cell_type": "code",
   "execution_count": 10,
   "id": "e170ef4f",
   "metadata": {},
   "outputs": [],
   "source": [
    "df_most_common_words = pd.DataFrame(c.most_common())"
   ]
  },
  {
   "cell_type": "code",
   "execution_count": 302,
   "id": "60cd1971",
   "metadata": {},
   "outputs": [],
   "source": [
    "pd.DataFrame(df_most_common_words).to_csv('hyunhotime_MCW.csv', header=['Tweets','Occurences'])"
   ]
  },
  {
   "cell_type": "code",
   "execution_count": 12,
   "id": "cd615503",
   "metadata": {
    "collapsed": true
   },
   "outputs": [
    {
     "data": {
      "text/html": [
       "<div>\n",
       "<style scoped>\n",
       "    .dataframe tbody tr th:only-of-type {\n",
       "        vertical-align: middle;\n",
       "    }\n",
       "\n",
       "    .dataframe tbody tr th {\n",
       "        vertical-align: top;\n",
       "    }\n",
       "\n",
       "    .dataframe thead th {\n",
       "        text-align: right;\n",
       "    }\n",
       "</style>\n",
       "<table border=\"1\" class=\"dataframe\">\n",
       "  <thead>\n",
       "    <tr style=\"text-align: right;\">\n",
       "      <th></th>\n",
       "      <th>Occurence</th>\n",
       "    </tr>\n",
       "    <tr>\n",
       "      <th>Words</th>\n",
       "      <th></th>\n",
       "    </tr>\n",
       "  </thead>\n",
       "  <tbody>\n",
       "    <tr>\n",
       "      <th>hyunhotime</th>\n",
       "      <td>991</td>\n",
       "    </tr>\n",
       "    <tr>\n",
       "      <th>brand</th>\n",
       "      <td>529</td>\n",
       "    </tr>\n",
       "    <tr>\n",
       "      <th>afford</th>\n",
       "      <td>525</td>\n",
       "    </tr>\n",
       "    <tr>\n",
       "      <th>good</th>\n",
       "      <td>305</td>\n",
       "    </tr>\n",
       "    <tr>\n",
       "      <th>want</th>\n",
       "      <td>302</td>\n",
       "    </tr>\n",
       "    <tr>\n",
       "      <th>people</th>\n",
       "      <td>287</td>\n",
       "    </tr>\n",
       "    <tr>\n",
       "      <th>cheap</th>\n",
       "      <td>262</td>\n",
       "    </tr>\n",
       "    <tr>\n",
       "      <th>clothes</th>\n",
       "      <td>208</td>\n",
       "    </tr>\n",
       "    <tr>\n",
       "      <th>classist</th>\n",
       "      <td>205</td>\n",
       "    </tr>\n",
       "    <tr>\n",
       "      <th>going</th>\n",
       "      <td>195</td>\n",
       "    </tr>\n",
       "    <tr>\n",
       "      <th>everyone</th>\n",
       "      <td>184</td>\n",
       "    </tr>\n",
       "    <tr>\n",
       "      <th>tell</th>\n",
       "      <td>181</td>\n",
       "    </tr>\n",
       "    <tr>\n",
       "      <th>expensive</th>\n",
       "      <td>178</td>\n",
       "    </tr>\n",
       "    <tr>\n",
       "      <th>support</th>\n",
       "      <td>175</td>\n",
       "    </tr>\n",
       "    <tr>\n",
       "      <th>without</th>\n",
       "      <td>174</td>\n",
       "    </tr>\n",
       "    <tr>\n",
       "      <th>one</th>\n",
       "      <td>173</td>\n",
       "    </tr>\n",
       "    <tr>\n",
       "      <th>know</th>\n",
       "      <td>172</td>\n",
       "    </tr>\n",
       "    <tr>\n",
       "      <th>literally</th>\n",
       "      <td>172</td>\n",
       "    </tr>\n",
       "    <tr>\n",
       "      <th>spending</th>\n",
       "      <td>168</td>\n",
       "    </tr>\n",
       "    <tr>\n",
       "      <th>idols</th>\n",
       "      <td>166</td>\n",
       "    </tr>\n",
       "  </tbody>\n",
       "</table>\n",
       "</div>"
      ],
      "text/plain": [
       "            Occurence\n",
       "Words                \n",
       "hyunhotime        991\n",
       "brand             529\n",
       "afford            525\n",
       "good              305\n",
       "want              302\n",
       "people            287\n",
       "cheap             262\n",
       "clothes           208\n",
       "classist          205\n",
       "going             195\n",
       "everyone          184\n",
       "tell              181\n",
       "expensive         178\n",
       "support           175\n",
       "without           174\n",
       "one               173\n",
       "know              172\n",
       "literally         172\n",
       "spending          168\n",
       "idols             166"
      ]
     },
     "execution_count": 12,
     "metadata": {},
     "output_type": "execute_result"
    }
   ],
   "source": [
    "df_most_common_words.columns = ['Words', 'Occurence']\n",
    "df_most_common_words = df_most_common_words.head(20)\n",
    "df_most_common_words = df_most_common_words.set_index('Words')\n",
    "df_most_common_words"
   ]
  },
  {
   "cell_type": "code",
   "execution_count": 11,
   "id": "7590a727",
   "metadata": {},
   "outputs": [
    {
     "data": {
      "image/png": "[encoded data removed]",
      "text/plain": [
       "<Figure size 432x288 with 1 Axes>"
      ]
     },
     "metadata": {
      "needs_background": "light"
     },
     "output_type": "display_data"
    }
   ],
   "source": [
    "mcw_plot = df_most_common_words.plot.bar();\n",
    "mcw_plot = mcw_plot.get_figure()\n",
    "mcw_plot.savefig('hyunhotime_mcw_plot.jpg', dpi=100)"
   ]
  },
  {
   "cell_type": "markdown",
   "id": "ba5af9ce",
   "metadata": {},
   "source": [
    "## TF-IDF"
   ]
  },
  {
   "cell_type": "code",
   "execution_count": 15,
   "id": "6fa88025",
   "metadata": {},
   "outputs": [],
   "source": [
    "vectorizer = TfidfVectorizer(min_df = 2)\n",
    "X = vectorizer.fit_transform(tweet_documents)"
   ]
  },
  {
   "cell_type": "code",
   "execution_count": 16,
   "id": "6ab0c2d3",
   "metadata": {},
   "outputs": [],
   "source": [
    "feature_tfidf = pd.DataFrame(X.toarray(), columns=vectorizer.get_feature_names_out())"
   ]
  },
  {
   "cell_type": "code",
   "execution_count": 157,
   "id": "f590126e",
   "metadata": {},
   "outputs": [],
   "source": [
    "pd.DataFrame(feature_tfidf).to_csv('hyunhotime - tfidf.csv')"
   ]
  },
  {
   "cell_type": "code",
   "execution_count": 21,
   "id": "53ae2363",
   "metadata": {},
   "outputs": [],
   "source": [
    "feature_tfidf_transposed = feature_tfidf.T\n",
    "feature_tfidf_transposed = feature_tfidf_transposed.sum(axis=1)\n",
    "sorted_feature = feature_tfidf_transposed.sort_values(ascending=False)\n",
    "sorted_feature.index.name ='Words'"
   ]
  },
  {
   "cell_type": "code",
   "execution_count": 22,
   "id": "70cc63e7",
   "metadata": {},
   "outputs": [
    {
     "data": {
      "text/plain": [
       "Words\n",
       "hyunhotime       70.385558\n",
       "user             17.911362\n",
       "always           16.774358\n",
       "bench            14.804180\n",
       "like             12.710467\n",
       "                   ...    \n",
       "international     0.496453\n",
       "mas               0.482019\n",
       "name              0.467035\n",
       "joon              0.453290\n",
       "seo               0.453290\n",
       "Length: 397, dtype: float64"
      ]
     },
     "execution_count": 22,
     "metadata": {},
     "output_type": "execute_result"
    }
   ],
   "source": [
    "sorted_feature"
   ]
  },
  {
   "cell_type": "code",
   "execution_count": 23,
   "id": "c0d5311c",
   "metadata": {},
   "outputs": [],
   "source": [
    "sorted_feature = pd.DataFrame(sorted_feature)\n",
    "sorted_feature.columns = ['TF-IDF Sum']"
   ]
  },
  {
   "cell_type": "code",
   "execution_count": 24,
   "id": "f10a87f5",
   "metadata": {},
   "outputs": [],
   "source": [
    "pd.DataFrame(sorted_feature).to_csv('hyunhotime - tfidf sorted.csv')"
   ]
  },
  {
   "cell_type": "code",
   "execution_count": 13,
   "id": "29b90205",
   "metadata": {},
   "outputs": [],
   "source": [
    "sorted_feature = sorted_feature.head(20)"
   ]
  },
  {
   "cell_type": "code",
   "execution_count": 14,
   "id": "199a21da",
   "metadata": {
    "collapsed": true
   },
   "outputs": [
    {
     "data": {
      "text/html": [
       "<div>\n",
       "<style scoped>\n",
       "    .dataframe tbody tr th:only-of-type {\n",
       "        vertical-align: middle;\n",
       "    }\n",
       "\n",
       "    .dataframe tbody tr th {\n",
       "        vertical-align: top;\n",
       "    }\n",
       "\n",
       "    .dataframe thead th {\n",
       "        text-align: right;\n",
       "    }\n",
       "</style>\n",
       "<table border=\"1\" class=\"dataframe\">\n",
       "  <thead>\n",
       "    <tr style=\"text-align: right;\">\n",
       "      <th></th>\n",
       "      <th>TF-IDF Sum</th>\n",
       "    </tr>\n",
       "    <tr>\n",
       "      <th>Words</th>\n",
       "      <th></th>\n",
       "    </tr>\n",
       "  </thead>\n",
       "  <tbody>\n",
       "    <tr>\n",
       "      <th>hyunhotime</th>\n",
       "      <td>70.385558</td>\n",
       "    </tr>\n",
       "    <tr>\n",
       "      <th>user</th>\n",
       "      <td>17.911362</td>\n",
       "    </tr>\n",
       "    <tr>\n",
       "      <th>always</th>\n",
       "      <td>16.774358</td>\n",
       "    </tr>\n",
       "    <tr>\n",
       "      <th>bench</th>\n",
       "      <td>14.804180</td>\n",
       "    </tr>\n",
       "    <tr>\n",
       "      <th>like</th>\n",
       "      <td>12.710467</td>\n",
       "    </tr>\n",
       "    <tr>\n",
       "      <th>oh</th>\n",
       "      <td>11.512293</td>\n",
       "    </tr>\n",
       "    <tr>\n",
       "      <th>cheap</th>\n",
       "      <td>11.263175</td>\n",
       "    </tr>\n",
       "    <tr>\n",
       "      <th>brand</th>\n",
       "      <td>11.230069</td>\n",
       "    </tr>\n",
       "    <tr>\n",
       "      <th>deactivated</th>\n",
       "      <td>11.207166</td>\n",
       "    </tr>\n",
       "    <tr>\n",
       "      <th>happened</th>\n",
       "      <td>9.948247</td>\n",
       "    </tr>\n",
       "    <tr>\n",
       "      <th>fuck</th>\n",
       "      <td>9.333098</td>\n",
       "    </tr>\n",
       "    <tr>\n",
       "      <th>back</th>\n",
       "      <td>9.136327</td>\n",
       "    </tr>\n",
       "    <tr>\n",
       "      <th>one</th>\n",
       "      <td>8.481667</td>\n",
       "    </tr>\n",
       "    <tr>\n",
       "      <th>problematic</th>\n",
       "      <td>8.199501</td>\n",
       "    </tr>\n",
       "    <tr>\n",
       "      <th>skz</th>\n",
       "      <td>7.920050</td>\n",
       "    </tr>\n",
       "    <tr>\n",
       "      <th>time</th>\n",
       "      <td>7.724922</td>\n",
       "    </tr>\n",
       "    <tr>\n",
       "      <th>deactivate</th>\n",
       "      <td>7.444181</td>\n",
       "    </tr>\n",
       "    <tr>\n",
       "      <th>know</th>\n",
       "      <td>7.266863</td>\n",
       "    </tr>\n",
       "    <tr>\n",
       "      <th>say</th>\n",
       "      <td>6.831332</td>\n",
       "    </tr>\n",
       "    <tr>\n",
       "      <th>ass</th>\n",
       "      <td>6.358706</td>\n",
       "    </tr>\n",
       "  </tbody>\n",
       "</table>\n",
       "</div>"
      ],
      "text/plain": [
       "             TF-IDF Sum\n",
       "Words                  \n",
       "hyunhotime    70.385558\n",
       "user          17.911362\n",
       "always        16.774358\n",
       "bench         14.804180\n",
       "like          12.710467\n",
       "oh            11.512293\n",
       "cheap         11.263175\n",
       "brand         11.230069\n",
       "deactivated   11.207166\n",
       "happened       9.948247\n",
       "fuck           9.333098\n",
       "back           9.136327\n",
       "one            8.481667\n",
       "problematic    8.199501\n",
       "skz            7.920050\n",
       "time           7.724922\n",
       "deactivate     7.444181\n",
       "know           7.266863\n",
       "say            6.831332\n",
       "ass            6.358706"
      ]
     },
     "execution_count": 14,
     "metadata": {},
     "output_type": "execute_result"
    }
   ],
   "source": [
    "sorted_feature"
   ]
  },
  {
   "cell_type": "code",
   "execution_count": 267,
   "id": "681f044b",
   "metadata": {
    "collapsed": true
   },
   "outputs": [
    {
     "data": {
      "image/png": "[encoded data removed]",
      "text/plain": [
       "<Figure size 700x500 with 1 Axes>"
      ]
     },
     "metadata": {
      "needs_background": "light"
     },
     "output_type": "display_data"
    }
   ],
   "source": [
    "sorted_feature = pd.DataFrame(sorted_feature, columns=[\"TF-IDF Sum\"])\n",
    "plot = sorted_feature.plot.bar();\n",
    "plot = plot.get_figure()"
   ]
  },
  {
   "cell_type": "code",
   "execution_count": 268,
   "id": "375ef472",
   "metadata": {},
   "outputs": [],
   "source": [
    "plot.savefig('hyunhotime_tf-idf_plot.jpg', dpi=100)"
   ]
  },
  {
   "cell_type": "markdown",
   "id": "c21a5f37",
   "metadata": {},
   "source": [
    "## SENTIMENT ANALYSIS"
   ]
  },
  {
   "cell_type": "code",
   "execution_count": 108,
   "id": "4b8e57a7",
   "metadata": {
    "scrolled": true
   },
   "outputs": [],
   "source": [
    "sentiment_data = tweet_documents"
   ]
  },
  {
   "cell_type": "code",
   "execution_count": 109,
   "id": "cbca0e6a",
   "metadata": {},
   "outputs": [],
   "source": [
    "# Getting the polarity and subjectivity of the tweets\n",
    "positive_tweets = []\n",
    "negative_tweets = []\n",
    "tweet_polarity_list = []\n",
    "polarity_result = []\n",
    "subjectivity_result = []\n",
    "subjectivity_analysis = []\n",
    "for tweet in sentiment_data:\n",
    "    tweet_polarity = TextBlob(tweet).sentiment.polarity\n",
    "    tweet_subjectivity = TextBlob(tweet).sentiment.subjectivity\n",
    "    tweet_polarity_list.append(tweet_polarity)\n",
    "    subjectivity_result.append(tweet_subjectivity)"
   ]
  },
  {
   "cell_type": "code",
   "execution_count": 110,
   "id": "a608c64d",
   "metadata": {},
   "outputs": [],
   "source": [
    "for tweet in tweet_polarity_list:\n",
    "    if tweet == 0.0:\n",
    "        polarity_result.append('Neutral')\n",
    "        continue\n",
    "    elif tweet < 0.0:\n",
    "        polarity_result.append('Negative')\n",
    "        continue\n",
    "    polarity_result.append('Positive')"
   ]
  },
  {
   "cell_type": "code",
   "execution_count": 111,
   "id": "0378bffa",
   "metadata": {
    "scrolled": true
   },
   "outputs": [],
   "source": [
    "for tweet in subjectivity_result:\n",
    "    if tweet > 0.5:\n",
    "        subjectivity_analysis.append('Subjective')\n",
    "        continue\n",
    "    subjectivity_analysis.append('Objective')"
   ]
  },
  {
   "cell_type": "code",
   "execution_count": 113,
   "id": "c0620457",
   "metadata": {},
   "outputs": [
    {
     "data": {
      "text/html": [
       "<div>\n",
       "<style scoped>\n",
       "    .dataframe tbody tr th:only-of-type {\n",
       "        vertical-align: middle;\n",
       "    }\n",
       "\n",
       "    .dataframe tbody tr th {\n",
       "        vertical-align: top;\n",
       "    }\n",
       "\n",
       "    .dataframe thead th {\n",
       "        text-align: right;\n",
       "    }\n",
       "</style>\n",
       "<table border=\"1\" class=\"dataframe\">\n",
       "  <thead>\n",
       "    <tr style=\"text-align: right;\">\n",
       "      <th></th>\n",
       "      <th>Polarity Results</th>\n",
       "      <th>Polarity Analysis</th>\n",
       "      <th>Subjectivity Results</th>\n",
       "      <th>Subjectivity Analysis</th>\n",
       "    </tr>\n",
       "  </thead>\n",
       "  <tbody>\n",
       "    <tr>\n",
       "      <th>0</th>\n",
       "      <td>0.0</td>\n",
       "      <td>Neutral</td>\n",
       "      <td>0.0</td>\n",
       "      <td>Objective</td>\n",
       "    </tr>\n",
       "    <tr>\n",
       "      <th>1</th>\n",
       "      <td>0.0</td>\n",
       "      <td>Neutral</td>\n",
       "      <td>0.0</td>\n",
       "      <td>Objective</td>\n",
       "    </tr>\n",
       "    <tr>\n",
       "      <th>2</th>\n",
       "      <td>0.0</td>\n",
       "      <td>Neutral</td>\n",
       "      <td>0.0</td>\n",
       "      <td>Objective</td>\n",
       "    </tr>\n",
       "    <tr>\n",
       "      <th>3</th>\n",
       "      <td>0.0</td>\n",
       "      <td>Neutral</td>\n",
       "      <td>0.0</td>\n",
       "      <td>Objective</td>\n",
       "    </tr>\n",
       "    <tr>\n",
       "      <th>4</th>\n",
       "      <td>-0.4</td>\n",
       "      <td>Negative</td>\n",
       "      <td>0.6</td>\n",
       "      <td>Subjective</td>\n",
       "    </tr>\n",
       "    <tr>\n",
       "      <th>...</th>\n",
       "      <td>...</td>\n",
       "      <td>...</td>\n",
       "      <td>...</td>\n",
       "      <td>...</td>\n",
       "    </tr>\n",
       "    <tr>\n",
       "      <th>542</th>\n",
       "      <td>0.0</td>\n",
       "      <td>Neutral</td>\n",
       "      <td>0.0</td>\n",
       "      <td>Objective</td>\n",
       "    </tr>\n",
       "    <tr>\n",
       "      <th>543</th>\n",
       "      <td>0.8</td>\n",
       "      <td>Positive</td>\n",
       "      <td>0.7</td>\n",
       "      <td>Subjective</td>\n",
       "    </tr>\n",
       "    <tr>\n",
       "      <th>544</th>\n",
       "      <td>0.0</td>\n",
       "      <td>Neutral</td>\n",
       "      <td>0.0</td>\n",
       "      <td>Objective</td>\n",
       "    </tr>\n",
       "    <tr>\n",
       "      <th>545</th>\n",
       "      <td>0.0</td>\n",
       "      <td>Neutral</td>\n",
       "      <td>0.0</td>\n",
       "      <td>Objective</td>\n",
       "    </tr>\n",
       "    <tr>\n",
       "      <th>546</th>\n",
       "      <td>0.0</td>\n",
       "      <td>Neutral</td>\n",
       "      <td>0.0</td>\n",
       "      <td>Objective</td>\n",
       "    </tr>\n",
       "  </tbody>\n",
       "</table>\n",
       "<p>547 rows × 4 columns</p>\n",
       "</div>"
      ],
      "text/plain": [
       "     Polarity Results Polarity Analysis  Subjectivity Results  \\\n",
       "0                 0.0           Neutral                   0.0   \n",
       "1                 0.0           Neutral                   0.0   \n",
       "2                 0.0           Neutral                   0.0   \n",
       "3                 0.0           Neutral                   0.0   \n",
       "4                -0.4          Negative                   0.6   \n",
       "..                ...               ...                   ...   \n",
       "542               0.0           Neutral                   0.0   \n",
       "543               0.8          Positive                   0.7   \n",
       "544               0.0           Neutral                   0.0   \n",
       "545               0.0           Neutral                   0.0   \n",
       "546               0.0           Neutral                   0.0   \n",
       "\n",
       "    Subjectivity Analysis  \n",
       "0               Objective  \n",
       "1               Objective  \n",
       "2               Objective  \n",
       "3               Objective  \n",
       "4              Subjective  \n",
       "..                    ...  \n",
       "542             Objective  \n",
       "543            Subjective  \n",
       "544             Objective  \n",
       "545             Objective  \n",
       "546             Objective  \n",
       "\n",
       "[547 rows x 4 columns]"
      ]
     },
     "execution_count": 113,
     "metadata": {},
     "output_type": "execute_result"
    }
   ],
   "source": [
    "sent_analysis = pd.DataFrame({'Polarity Results': tweet_polarity_list,\n",
    "              'Polarity Analysis': polarity_result,\n",
    "              'Subjectivity Results': subjectivity_result,\n",
    "              'Subjectivity Analysis': subjectivity_analysis})\n",
    "sent_analysis"
   ]
  },
  {
   "cell_type": "code",
   "execution_count": 120,
   "id": "cac7eb96",
   "metadata": {},
   "outputs": [
    {
     "data": {
      "image/png": "[encoded data removed]",
      "text/plain": [
       "<Figure size 720x432 with 1 Axes>"
      ]
     },
     "metadata": {
      "needs_background": "light"
     },
     "output_type": "display_data"
    }
   ],
   "source": [
    "scatter_plot = pd.DataFrame(sent_analysis)\n",
    "scatter_plot_figure = scatter_plot.plot.scatter(x='Polarity Results', y='Subjectivity Results', c='DarkBlue', figsize=(10, 6))\n",
    "scatter_plot_figure = scatter_plot_figure.get_figure()\n",
    "scatter_plot_figure.savefig('hyunhotime_scatter_plot.jpg', dpi=100)"
   ]
  },
  {
   "cell_type": "code",
   "execution_count": 114,
   "id": "14edc9f5",
   "metadata": {},
   "outputs": [
    {
     "data": {
      "text/html": [
       "<div>\n",
       "<style scoped>\n",
       "    .dataframe tbody tr th:only-of-type {\n",
       "        vertical-align: middle;\n",
       "    }\n",
       "\n",
       "    .dataframe tbody tr th {\n",
       "        vertical-align: top;\n",
       "    }\n",
       "\n",
       "    .dataframe thead th {\n",
       "        text-align: right;\n",
       "    }\n",
       "</style>\n",
       "<table border=\"1\" class=\"dataframe\">\n",
       "  <thead>\n",
       "    <tr style=\"text-align: right;\">\n",
       "      <th></th>\n",
       "      <th>Polarity Analysis</th>\n",
       "      <th>Percent</th>\n",
       "    </tr>\n",
       "  </thead>\n",
       "  <tbody>\n",
       "    <tr>\n",
       "      <th>Neutral</th>\n",
       "      <td>320</td>\n",
       "      <td>58.5</td>\n",
       "    </tr>\n",
       "    <tr>\n",
       "      <th>Positive</th>\n",
       "      <td>136</td>\n",
       "      <td>24.9</td>\n",
       "    </tr>\n",
       "    <tr>\n",
       "      <th>Negative</th>\n",
       "      <td>91</td>\n",
       "      <td>16.6</td>\n",
       "    </tr>\n",
       "  </tbody>\n",
       "</table>\n",
       "</div>"
      ],
      "text/plain": [
       "          Polarity Analysis  Percent\n",
       "Neutral                 320     58.5\n",
       "Positive                136     24.9\n",
       "Negative                 91     16.6"
      ]
     },
     "execution_count": 114,
     "metadata": {},
     "output_type": "execute_result"
    }
   ],
   "source": [
    "counts_for_polarity = sent_analysis_plot['Polarity Analysis'].value_counts()\n",
    "counts_for_polarity = pd.DataFrame(counts_for_polarity)\n",
    "counts_for_polarity['Percent'] = round((counts_for_polarity['Polarity Analysis'] / counts_for_polarity['Polarity Analysis'].sum()) * 100, 1)\n",
    "counts_for_polarity"
   ]
  },
  {
   "cell_type": "code",
   "execution_count": 121,
   "id": "1d7ed3e1",
   "metadata": {},
   "outputs": [
    {
     "data": {
      "image/png": "[encoded data removed]",
      "text/plain": [
       "<Figure size 720x432 with 1 Axes>"
      ]
     },
     "metadata": {
      "needs_background": "light"
     },
     "output_type": "display_data"
    }
   ],
   "source": [
    "sentiment_analysis_polarity_plot = counts_for_polarity['Percent'].plot.bar(figsize=(10, 6));\n",
    "sentiment_analysis_polarity_plot = sentiment_analysis_polarity_plot.get_figure()\n",
    "sentiment_analysis_polarity_plot.savefig('hyunhotime_polarity_barplot.jpg', dpi=100)"
   ]
  },
  {
   "cell_type": "code",
   "execution_count": 99,
   "id": "d096e2e8",
   "metadata": {},
   "outputs": [],
   "source": [
    "pd.DataFrame(sent_analysis).to_csv('hyunhotime_sentimentAnalysisResults.csv')"
   ]
  },
  {
   "cell_type": "markdown",
   "id": "6115db9e",
   "metadata": {},
   "source": [
    "## EMOTION DETECTION"
   ]
  },
  {
   "cell_type": "code",
   "execution_count": 350,
   "id": "591f44e5",
   "metadata": {},
   "outputs": [],
   "source": [
    "emotions_detected = []\n",
    "for tweet in tweet_documents:\n",
    "    emotions = te.get_emotion(tweet)\n",
    "    emotions_detected.append(emotions)"
   ]
  },
  {
   "cell_type": "code",
   "execution_count": 357,
   "id": "b59fb0f9",
   "metadata": {
    "collapsed": true
   },
   "outputs": [
    {
     "data": {
      "text/html": [
       "<div>\n",
       "<style scoped>\n",
       "    .dataframe tbody tr th:only-of-type {\n",
       "        vertical-align: middle;\n",
       "    }\n",
       "\n",
       "    .dataframe tbody tr th {\n",
       "        vertical-align: top;\n",
       "    }\n",
       "\n",
       "    .dataframe thead th {\n",
       "        text-align: right;\n",
       "    }\n",
       "</style>\n",
       "<table border=\"1\" class=\"dataframe\">\n",
       "  <thead>\n",
       "    <tr style=\"text-align: right;\">\n",
       "      <th></th>\n",
       "      <th>Happy</th>\n",
       "      <th>Angry</th>\n",
       "      <th>Surprise</th>\n",
       "      <th>Sad</th>\n",
       "      <th>Fear</th>\n",
       "    </tr>\n",
       "  </thead>\n",
       "  <tbody>\n",
       "    <tr>\n",
       "      <th>0</th>\n",
       "      <td>0.0</td>\n",
       "      <td>0.0</td>\n",
       "      <td>0.0</td>\n",
       "      <td>0.0</td>\n",
       "      <td>0.0</td>\n",
       "    </tr>\n",
       "    <tr>\n",
       "      <th>1</th>\n",
       "      <td>0.0</td>\n",
       "      <td>0.0</td>\n",
       "      <td>0.0</td>\n",
       "      <td>0.0</td>\n",
       "      <td>0.0</td>\n",
       "    </tr>\n",
       "    <tr>\n",
       "      <th>2</th>\n",
       "      <td>0.0</td>\n",
       "      <td>0.0</td>\n",
       "      <td>0.0</td>\n",
       "      <td>0.0</td>\n",
       "      <td>0.0</td>\n",
       "    </tr>\n",
       "    <tr>\n",
       "      <th>3</th>\n",
       "      <td>0.0</td>\n",
       "      <td>0.0</td>\n",
       "      <td>0.0</td>\n",
       "      <td>0.0</td>\n",
       "      <td>0.0</td>\n",
       "    </tr>\n",
       "    <tr>\n",
       "      <th>4</th>\n",
       "      <td>1.0</td>\n",
       "      <td>0.0</td>\n",
       "      <td>0.0</td>\n",
       "      <td>0.0</td>\n",
       "      <td>0.0</td>\n",
       "    </tr>\n",
       "    <tr>\n",
       "      <th>...</th>\n",
       "      <td>...</td>\n",
       "      <td>...</td>\n",
       "      <td>...</td>\n",
       "      <td>...</td>\n",
       "      <td>...</td>\n",
       "    </tr>\n",
       "    <tr>\n",
       "      <th>542</th>\n",
       "      <td>0.0</td>\n",
       "      <td>0.0</td>\n",
       "      <td>0.0</td>\n",
       "      <td>0.0</td>\n",
       "      <td>0.0</td>\n",
       "    </tr>\n",
       "    <tr>\n",
       "      <th>543</th>\n",
       "      <td>0.0</td>\n",
       "      <td>0.0</td>\n",
       "      <td>0.0</td>\n",
       "      <td>0.0</td>\n",
       "      <td>0.0</td>\n",
       "    </tr>\n",
       "    <tr>\n",
       "      <th>544</th>\n",
       "      <td>0.0</td>\n",
       "      <td>0.0</td>\n",
       "      <td>0.0</td>\n",
       "      <td>1.0</td>\n",
       "      <td>0.0</td>\n",
       "    </tr>\n",
       "    <tr>\n",
       "      <th>545</th>\n",
       "      <td>0.0</td>\n",
       "      <td>0.0</td>\n",
       "      <td>0.0</td>\n",
       "      <td>0.0</td>\n",
       "      <td>0.0</td>\n",
       "    </tr>\n",
       "    <tr>\n",
       "      <th>546</th>\n",
       "      <td>0.0</td>\n",
       "      <td>0.0</td>\n",
       "      <td>0.0</td>\n",
       "      <td>1.0</td>\n",
       "      <td>0.0</td>\n",
       "    </tr>\n",
       "  </tbody>\n",
       "</table>\n",
       "<p>547 rows × 5 columns</p>\n",
       "</div>"
      ],
      "text/plain": [
       "     Happy  Angry  Surprise  Sad  Fear\n",
       "0      0.0    0.0       0.0  0.0   0.0\n",
       "1      0.0    0.0       0.0  0.0   0.0\n",
       "2      0.0    0.0       0.0  0.0   0.0\n",
       "3      0.0    0.0       0.0  0.0   0.0\n",
       "4      1.0    0.0       0.0  0.0   0.0\n",
       "..     ...    ...       ...  ...   ...\n",
       "542    0.0    0.0       0.0  0.0   0.0\n",
       "543    0.0    0.0       0.0  0.0   0.0\n",
       "544    0.0    0.0       0.0  1.0   0.0\n",
       "545    0.0    0.0       0.0  0.0   0.0\n",
       "546    0.0    0.0       0.0  1.0   0.0\n",
       "\n",
       "[547 rows x 5 columns]"
      ]
     },
     "execution_count": 357,
     "metadata": {},
     "output_type": "execute_result"
    }
   ],
   "source": [
    "emotions_detected = pd.DataFrame(emotions_detected)\n",
    "emotions_detected"
   ]
  },
  {
   "cell_type": "code",
   "execution_count": 360,
   "id": "c7e5233a",
   "metadata": {},
   "outputs": [
    {
     "data": {
      "text/plain": [
       "Happy        50.55\n",
       "Angry        19.80\n",
       "Surprise     83.05\n",
       "Sad         110.58\n",
       "Fear        100.82\n",
       "dtype: float64"
      ]
     },
     "execution_count": 360,
     "metadata": {},
     "output_type": "execute_result"
    }
   ],
   "source": [
    "emotions_transposed = emotions_detected.T\n",
    "emotions_transposed = emotions_transposed.sum(axis=1)\n",
    "emotions_transposed"
   ]
  },
  {
   "cell_type": "code",
   "execution_count": 353,
   "id": "33bb6285",
   "metadata": {
    "scrolled": true
   },
   "outputs": [],
   "source": [
    "emotions_transposed_plot = pd.DataFrame(emotions_transposed)"
   ]
  },
  {
   "cell_type": "code",
   "execution_count": 367,
   "id": "c226fd3e",
   "metadata": {},
   "outputs": [
    {
     "data": {
      "text/html": [
       "<div>\n",
       "<style scoped>\n",
       "    .dataframe tbody tr th:only-of-type {\n",
       "        vertical-align: middle;\n",
       "    }\n",
       "\n",
       "    .dataframe tbody tr th {\n",
       "        vertical-align: top;\n",
       "    }\n",
       "\n",
       "    .dataframe thead th {\n",
       "        text-align: right;\n",
       "    }\n",
       "</style>\n",
       "<table border=\"1\" class=\"dataframe\">\n",
       "  <thead>\n",
       "    <tr style=\"text-align: right;\">\n",
       "      <th></th>\n",
       "      <th>Emotion Value Total</th>\n",
       "    </tr>\n",
       "  </thead>\n",
       "  <tbody>\n",
       "    <tr>\n",
       "      <th>Happy</th>\n",
       "      <td>50.55</td>\n",
       "    </tr>\n",
       "    <tr>\n",
       "      <th>Angry</th>\n",
       "      <td>19.80</td>\n",
       "    </tr>\n",
       "    <tr>\n",
       "      <th>Surprise</th>\n",
       "      <td>83.05</td>\n",
       "    </tr>\n",
       "    <tr>\n",
       "      <th>Sad</th>\n",
       "      <td>110.58</td>\n",
       "    </tr>\n",
       "    <tr>\n",
       "      <th>Fear</th>\n",
       "      <td>100.82</td>\n",
       "    </tr>\n",
       "  </tbody>\n",
       "</table>\n",
       "</div>"
      ],
      "text/plain": [
       "          Emotion Value Total\n",
       "Happy                   50.55\n",
       "Angry                   19.80\n",
       "Surprise                83.05\n",
       "Sad                    110.58\n",
       "Fear                   100.82"
      ]
     },
     "execution_count": 367,
     "metadata": {},
     "output_type": "execute_result"
    }
   ],
   "source": [
    "emotions_transposed_plot.columns = ['Emotion Value Total']\n",
    "emotions_transposed_plot"
   ]
  },
  {
   "cell_type": "code",
   "execution_count": 371,
   "id": "215db96a",
   "metadata": {},
   "outputs": [
    {
     "data": {
      "image/png": "[encoded data removed]",
      "text/plain": [
       "<Figure size 600x600 with 1 Axes>"
      ]
     },
     "metadata": {},
     "output_type": "display_data"
    }
   ],
   "source": [
    "emotions_transposed_plot = emotions_transposed_plot.plot.pie(legend=None,subplots=True, figsize=(6, 6), autopct='%1.1f%%');"
   ]
  },
  {
   "cell_type": "code",
   "execution_count": 376,
   "id": "01f1b8aa",
   "metadata": {},
   "outputs": [],
   "source": [
    "emotions_transposed_plot = emotions_transposed_plot[0].get_figure()\n",
    "emotions_transposed_plot.savefig('hyunhotime_emotion_plot.jpg', dpi=100)"
   ]
  },
  {
   "cell_type": "code",
   "execution_count": 29,
   "id": "f43e8038",
   "metadata": {},
   "outputs": [],
   "source": [
    "df_emotions_detected = pd.DataFrame(emotions_detected).to_csv('hyunhotime_emotionDetection.csv')"
   ]
  }
 ],
 "metadata": {
  "kernelspec": {
   "display_name": "Python 3 (ipykernel)",
   "language": "python",
   "name": "python3"
  },
  "language_info": {
   "codemirror_mode": {
    "name": "ipython",
    "version": 3
   },
   "file_extension": ".py",
   "mimetype": "text/x-python",
   "name": "python",
   "nbconvert_exporter": "python",
   "pygments_lexer": "ipython3",
   "version": "3.9.7"
  }
 },
 "nbformat": 4,
 "nbformat_minor": 5
}
